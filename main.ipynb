{
 "cells": [
  {
   "cell_type": "code",
   "execution_count": 1,
   "metadata": {},
   "outputs": [],
   "source": [
    "# imports\n",
    "import os\n",
    "import os.path as osp\n",
    "import sys\n",
    "import json\n",
    "import tqdm\n",
    "import yaml\n",
    "import copy\n",
    "\n",
    "from poe_api_wrapper import PoeApi\n",
    "from cache import Cacher\n"
   ]
  },
  {
   "cell_type": "code",
   "execution_count": 2,
   "metadata": {},
   "outputs": [
    {
     "data": {
      "text/plain": [
       "{'b': 'NxeuhIbAINHu0OM49hkvWw%3D%3D',\n",
       " 'lat': '4vIeYDWHpqB7nlwlXGAkQ8u5nAKFG98FjueVCPPDlw%3D%3D'}"
      ]
     },
     "execution_count": 2,
     "metadata": {},
     "output_type": "execute_result"
    }
   ],
   "source": [
    "# configs\n",
    "os.environ[\"http_proxy\"] = \"http://172.22.160.1:7880\"\n",
    "os.environ[\"https_proxy\"] = \"http://172.22.160.1:7880\"\n",
    "\n",
    "api_config_file = \"api_configs.json\"\n",
    "with open(api_config_file, \"r\") as f:\n",
    "    api_configs = json.load(f)\n",
    "\n",
    "tokens = api_configs[\"poe_tokens\"]\n",
    "tokens"
   ]
  },
  {
   "cell_type": "code",
   "execution_count": 3,
   "metadata": {},
   "outputs": [],
   "source": [
    "# experiment settings\n",
    "\n",
    "force_replace = False\n",
    "\n",
    "config_path = \"results/configs\"\n",
    "config_name = \"basic\"\n",
    "config_path = osp.join(config_path, config_name + \".yaml\")\n",
    "\n",
    "configs = yaml.load(open(config_path, \"r\"), Loader=yaml.FullLoader)\n",
    "\n",
    "dataset_path = osp.join(\n",
    "    configs[\"data\"][\"data_path\"], configs[\"data\"][\"dataset_name\"] + \".json\"\n",
    ")\n",
    "\n",
    "if configs[\"use_cache\"]:\n",
    "    cache_path = osp.join(\n",
    "        configs[\"save_path\"], \"cache\", \"cache_\" + configs[\"cache_name\"] + \".json\"\n",
    "    )\n",
    "else:\n",
    "    cache_path = osp.join(configs[\"save_path\"], \"cache\", \"cache_default\" + \".json\")"
   ]
  },
  {
   "cell_type": "code",
   "execution_count": 4,
   "metadata": {},
   "outputs": [
    {
     "name": "stdout",
     "output_type": "stream",
     "text": [
      "APIs initialized, using cache at results/cache/cache_default.json\n"
     ]
    }
   ],
   "source": [
    "# initialize apis\n",
    "\n",
    "client = PoeApi(tokens)\n",
    "cacher = Cacher(\n",
    "    cache_path,\n",
    "    cache_id=\"default\",\n",
    "    cache_type=\"json\",\n",
    "    write_cache=True,\n",
    "    write_interval=1,\n",
    ")\n",
    "\n",
    "print(\"APIs initialized, using cache at\", cache_path)"
   ]
  },
  {
   "cell_type": "code",
   "execution_count": 5,
   "metadata": {},
   "outputs": [],
   "source": [
    "tot_price = 0"
   ]
  },
  {
   "cell_type": "code",
   "execution_count": 15,
   "metadata": {},
   "outputs": [
    {
     "name": "stderr",
     "output_type": "stream",
     "text": [
      "Task: 13,Endowment effect, Cache hit: 1096/1139, Total price: 15050, :  76%|███████▋  | 13/17 [01:02<00:19,  4.79s/it]\n",
      "  0%|          | 0/7 [01:02<?, ?it/s]\n"
     ]
    },
    {
     "name": "stdout",
     "output_type": "stream",
     "text": [
      "An unknown error occurred. Raw response data: {'data': None, 'errors': [{'message': 'Server Error'}], 'extensions': {'is_final': True}}\n",
      "Error, retrying...\n"
     ]
    },
    {
     "name": "stderr",
     "output_type": "stream",
     "text": [
      "Task: 13,Endowment effect, Cache hit: 1233/1276, Total price: 15050, :  76%|███████▋  | 13/17 [00:01<00:00,  9.44it/s]\n",
      "  0%|          | 0/7 [00:01<?, ?it/s]\n"
     ]
    },
    {
     "name": "stdout",
     "output_type": "stream",
     "text": [
      "An unknown error occurred. Raw response data: {'data': None, 'errors': [{'message': 'Server Error'}], 'extensions': {'is_final': True}}\n",
      "Error, retrying...\n"
     ]
    },
    {
     "name": "stderr",
     "output_type": "stream",
     "text": [
      "Task: 13,Endowment effect, Cache hit: 1370/1413, Total price: 15050, :  76%|███████▋  | 13/17 [00:01<00:00,  9.53it/s]\n",
      "  0%|          | 0/7 [00:01<?, ?it/s]\n"
     ]
    },
    {
     "name": "stdout",
     "output_type": "stream",
     "text": [
      "An unknown error occurred. Raw response data: {'data': None, 'errors': [{'message': 'Server Error'}], 'extensions': {'is_final': True}}\n",
      "Error, retrying...\n"
     ]
    },
    {
     "name": "stderr",
     "output_type": "stream",
     "text": [
      "Task: 13,Endowment effect, Cache hit: 1507/1550, Total price: 15050, :  76%|███████▋  | 13/17 [00:01<00:00,  8.76it/s]\n",
      "  0%|          | 0/7 [00:01<?, ?it/s]\n"
     ]
    },
    {
     "name": "stdout",
     "output_type": "stream",
     "text": [
      "An unknown error occurred. Raw response data: {'data': None, 'errors': [{'message': 'Server Error'}], 'extensions': {'is_final': True}}\n",
      "Error, retrying...\n"
     ]
    },
    {
     "name": "stderr",
     "output_type": "stream",
     "text": [
      "Task: 13,Endowment effect, Cache hit: 1644/1687, Total price: 15050, :  76%|███████▋  | 13/17 [00:01<00:00, 10.01it/s]\n",
      "  0%|          | 0/7 [00:01<?, ?it/s]\n"
     ]
    },
    {
     "name": "stdout",
     "output_type": "stream",
     "text": [
      "An unknown error occurred. Raw response data: {'data': None, 'errors': [{'message': 'Server Error'}], 'extensions': {'is_final': True}}\n",
      "Error, retrying...\n"
     ]
    },
    {
     "name": "stderr",
     "output_type": "stream",
     "text": [
      "Task: 13,Endowment effect, Cache hit: 1781/1824, Total price: 15050, :  76%|███████▋  | 13/17 [00:01<00:00,  9.24it/s]\n",
      "  0%|          | 0/7 [00:01<?, ?it/s]\n"
     ]
    },
    {
     "name": "stdout",
     "output_type": "stream",
     "text": [
      "An unknown error occurred. Raw response data: {'data': None, 'errors': [{'message': 'Server Error'}], 'extensions': {'is_final': True}}\n",
      "Error, retrying...\n"
     ]
    },
    {
     "name": "stderr",
     "output_type": "stream",
     "text": [
      "Task: 13,Endowment effect, Cache hit: 1918/1961, Total price: 15050, :  76%|███████▋  | 13/17 [00:01<00:00,  9.29it/s]\n",
      "  0%|          | 0/7 [00:01<?, ?it/s]\n"
     ]
    },
    {
     "name": "stdout",
     "output_type": "stream",
     "text": [
      "An unknown error occurred. Raw response data: {'data': None, 'errors': [{'message': 'Server Error'}], 'extensions': {'is_final': True}}\n",
      "Error, retrying...\n"
     ]
    },
    {
     "name": "stderr",
     "output_type": "stream",
     "text": [
      "Task: 13,Endowment effect, Cache hit: 2055/2098, Total price: 15050, :  76%|███████▋  | 13/17 [00:01<00:00,  9.16it/s]\n",
      "  0%|          | 0/7 [00:01<?, ?it/s]\n"
     ]
    },
    {
     "name": "stdout",
     "output_type": "stream",
     "text": [
      "An unknown error occurred. Raw response data: {'data': None, 'errors': [{'message': 'Server Error'}], 'extensions': {'is_final': True}}\n",
      "Error, retrying...\n"
     ]
    },
    {
     "name": "stderr",
     "output_type": "stream",
     "text": [
      "Task: 13,Endowment effect, Cache hit: 2192/2235, Total price: 15050, :  76%|███████▋  | 13/17 [00:01<00:00,  8.81it/s]\n",
      "  0%|          | 0/7 [00:01<?, ?it/s]\n"
     ]
    },
    {
     "name": "stdout",
     "output_type": "stream",
     "text": [
      "An unknown error occurred. Raw response data: {'data': None, 'errors': [{'message': 'Server Error'}], 'extensions': {'is_final': True}}\n",
      "Error, retrying...\n"
     ]
    },
    {
     "name": "stderr",
     "output_type": "stream",
     "text": [
      "Task: 13,Endowment effect, Cache hit: 2329/2372, Total price: 15050, :  76%|███████▋  | 13/17 [00:01<00:00,  9.41it/s]\n",
      "  0%|          | 0/7 [00:01<?, ?it/s]\n"
     ]
    },
    {
     "name": "stdout",
     "output_type": "stream",
     "text": [
      "An unknown error occurred. Raw response data: {'data': None, 'errors': [{'message': 'Server Error'}], 'extensions': {'is_final': True}}\n",
      "Error, retrying...\n"
     ]
    },
    {
     "name": "stderr",
     "output_type": "stream",
     "text": [
      "Task: 13,Endowment effect, Cache hit: 2466/2509, Total price: 15050, :  76%|███████▋  | 13/17 [00:01<00:00,  8.04it/s]\n",
      "  0%|          | 0/7 [00:01<?, ?it/s]\n"
     ]
    },
    {
     "name": "stdout",
     "output_type": "stream",
     "text": [
      "An unknown error occurred. Raw response data: {'data': None, 'errors': [{'message': 'Server Error'}], 'extensions': {'is_final': True}}\n",
      "Error, retrying...\n"
     ]
    },
    {
     "name": "stderr",
     "output_type": "stream",
     "text": [
      "Task: 13,Endowment effect, Cache hit: 2603/2646, Total price: 15050, :  76%|███████▋  | 13/17 [00:01<00:00,  9.16it/s]\n",
      "  0%|          | 0/7 [00:01<?, ?it/s]\n"
     ]
    },
    {
     "name": "stdout",
     "output_type": "stream",
     "text": [
      "An unknown error occurred. Raw response data: {'data': None, 'errors': [{'message': 'Server Error'}], 'extensions': {'is_final': True}}\n",
      "Error, retrying...\n"
     ]
    },
    {
     "name": "stderr",
     "output_type": "stream",
     "text": [
      "Task: 13,Endowment effect, Cache hit: 2740/2783, Total price: 15050, :  76%|███████▋  | 13/17 [00:01<00:00,  9.03it/s]\n",
      "  0%|          | 0/7 [00:01<?, ?it/s]\n"
     ]
    },
    {
     "name": "stdout",
     "output_type": "stream",
     "text": [
      "An unknown error occurred. Raw response data: {'data': None, 'errors': [{'message': 'Server Error'}], 'extensions': {'is_final': True}}\n",
      "Error, retrying...\n"
     ]
    },
    {
     "name": "stderr",
     "output_type": "stream",
     "text": [
      "Task: 13,Endowment effect, Cache hit: 2877/2920, Total price: 15050, :  76%|███████▋  | 13/17 [00:01<00:00,  9.28it/s]\n",
      "  0%|          | 0/7 [00:01<?, ?it/s]\n"
     ]
    },
    {
     "name": "stdout",
     "output_type": "stream",
     "text": [
      "An unknown error occurred. Raw response data: {'data': None, 'errors': [{'message': 'Server Error'}], 'extensions': {'is_final': True}}\n",
      "Error, retrying...\n"
     ]
    },
    {
     "name": "stderr",
     "output_type": "stream",
     "text": [
      "Task: 13,Endowment effect, Cache hit: 3014/3057, Total price: 15050, :  76%|███████▋  | 13/17 [00:01<00:00,  8.04it/s]\n",
      "  0%|          | 0/7 [00:01<?, ?it/s]\n"
     ]
    },
    {
     "name": "stdout",
     "output_type": "stream",
     "text": [
      "An unknown error occurred. Raw response data: {'data': None, 'errors': [{'message': 'Server Error'}], 'extensions': {'is_final': True}}\n",
      "Error, retrying...\n"
     ]
    },
    {
     "name": "stderr",
     "output_type": "stream",
     "text": [
      "Task: 13,Endowment effect, Cache hit: 3151/3194, Total price: 15050, :  76%|███████▋  | 13/17 [00:01<00:00,  9.33it/s]\n",
      "  0%|          | 0/7 [00:01<?, ?it/s]\n"
     ]
    },
    {
     "name": "stdout",
     "output_type": "stream",
     "text": [
      "An unknown error occurred. Raw response data: {'data': None, 'errors': [{'message': 'Server Error'}], 'extensions': {'is_final': True}}\n",
      "Error, retrying...\n"
     ]
    },
    {
     "name": "stderr",
     "output_type": "stream",
     "text": [
      "Task: 13,Endowment effect, Cache hit: 3288/3331, Total price: 15050, :  76%|███████▋  | 13/17 [00:01<00:00,  9.65it/s]\n",
      "  0%|          | 0/7 [00:01<?, ?it/s]\n"
     ]
    },
    {
     "name": "stdout",
     "output_type": "stream",
     "text": [
      "An unknown error occurred. Raw response data: {'data': None, 'errors': [{'message': 'Server Error'}], 'extensions': {'is_final': True}}\n",
      "Error, retrying...\n"
     ]
    },
    {
     "name": "stderr",
     "output_type": "stream",
     "text": [
      "Task: 13,Endowment effect, Cache hit: 3425/3468, Total price: 15050, :  76%|███████▋  | 13/17 [00:01<00:00,  7.34it/s]\n",
      "  0%|          | 0/7 [00:01<?, ?it/s]\n"
     ]
    },
    {
     "name": "stdout",
     "output_type": "stream",
     "text": [
      "An unknown error occurred. Raw response data: {'data': None, 'errors': [{'message': 'Server Error'}], 'extensions': {'is_final': True}}\n",
      "Error, retrying...\n"
     ]
    },
    {
     "name": "stderr",
     "output_type": "stream",
     "text": [
      "Task: 13,Endowment effect, Cache hit: 3562/3605, Total price: 15050, :  76%|███████▋  | 13/17 [00:01<00:00,  9.05it/s]\n",
      "  0%|          | 0/7 [00:01<?, ?it/s]\n"
     ]
    },
    {
     "name": "stdout",
     "output_type": "stream",
     "text": [
      "An unknown error occurred. Raw response data: {'data': None, 'errors': [{'message': 'Server Error'}], 'extensions': {'is_final': True}}\n",
      "Error, retrying...\n"
     ]
    },
    {
     "name": "stderr",
     "output_type": "stream",
     "text": [
      "Task: 14,Endowment effect, Cache hit: 3699/3752, Total price: 18550, :  82%|████████▏ | 14/17 [00:29<00:06,  2.09s/it]\n",
      "  0%|          | 0/7 [00:29<?, ?it/s]\n"
     ]
    },
    {
     "name": "stdout",
     "output_type": "stream",
     "text": [
      "An unknown error occurred. Raw response data: {'data': None, 'errors': [{'message': 'Server Error'}], 'extensions': {'is_final': True}}\n",
      "Error, retrying...\n"
     ]
    },
    {
     "name": "stderr",
     "output_type": "stream",
     "text": [
      "Task: 14,Endowment effect, Cache hit: 3846/3899, Total price: 18550, :  82%|████████▏ | 14/17 [00:01<00:00,  9.94it/s]\n",
      "  0%|          | 0/7 [00:01<?, ?it/s]\n"
     ]
    },
    {
     "name": "stdout",
     "output_type": "stream",
     "text": [
      "An unknown error occurred. Raw response data: {'data': None, 'errors': [{'message': 'Server Error'}], 'extensions': {'is_final': True}}\n",
      "Error, retrying...\n"
     ]
    },
    {
     "name": "stderr",
     "output_type": "stream",
     "text": [
      "Task: 14,Endowment effect, Cache hit: 3993/4046, Total price: 18550, :  82%|████████▏ | 14/17 [00:01<00:00,  8.15it/s]\n",
      "  0%|          | 0/7 [00:01<?, ?it/s]\n"
     ]
    },
    {
     "name": "stdout",
     "output_type": "stream",
     "text": [
      "An unknown error occurred. Raw response data: {'data': None, 'errors': [{'message': 'Server Error'}], 'extensions': {'is_final': True}}\n",
      "Error, retrying...\n"
     ]
    },
    {
     "name": "stderr",
     "output_type": "stream",
     "text": [
      "Task: 14,Endowment effect, Cache hit: 4140/4193, Total price: 18550, :  82%|████████▏ | 14/17 [00:01<00:00,  9.43it/s]\n",
      "  0%|          | 0/7 [00:01<?, ?it/s]\n"
     ]
    },
    {
     "name": "stdout",
     "output_type": "stream",
     "text": [
      "An unknown error occurred. Raw response data: {'data': None, 'errors': [{'message': 'Server Error'}], 'extensions': {'is_final': True}}\n",
      "Error, retrying...\n"
     ]
    },
    {
     "name": "stderr",
     "output_type": "stream",
     "text": [
      "Task: 14,Endowment effect, Cache hit: 4287/4340, Total price: 18550, :  82%|████████▏ | 14/17 [00:01<00:00,  9.39it/s]\n",
      "  0%|          | 0/7 [00:01<?, ?it/s]\n"
     ]
    },
    {
     "name": "stdout",
     "output_type": "stream",
     "text": [
      "An unknown error occurred. Raw response data: {'data': None, 'errors': [{'message': 'Server Error'}], 'extensions': {'is_final': True}}\n",
      "Error, retrying...\n"
     ]
    },
    {
     "name": "stderr",
     "output_type": "stream",
     "text": [
      "Task: 14,Endowment effect, Cache hit: 4434/4487, Total price: 18550, :  82%|████████▏ | 14/17 [00:01<00:00,  9.38it/s]\n",
      "  0%|          | 0/7 [00:01<?, ?it/s]\n"
     ]
    },
    {
     "name": "stdout",
     "output_type": "stream",
     "text": [
      "An unknown error occurred. Raw response data: {'data': None, 'errors': [{'message': 'Server Error'}], 'extensions': {'is_final': True}}\n",
      "Error, retrying...\n"
     ]
    },
    {
     "name": "stderr",
     "output_type": "stream",
     "text": [
      "Task: 14,Endowment effect, Cache hit: 4581/4634, Total price: 18550, :  82%|████████▏ | 14/17 [00:01<00:00,  9.78it/s]\n",
      "  0%|          | 0/7 [00:01<?, ?it/s]\n"
     ]
    },
    {
     "name": "stdout",
     "output_type": "stream",
     "text": [
      "An unknown error occurred. Raw response data: {'data': None, 'errors': [{'message': 'Server Error'}], 'extensions': {'is_final': True}}\n",
      "Error, retrying...\n"
     ]
    },
    {
     "name": "stderr",
     "output_type": "stream",
     "text": [
      "Task: 14,Endowment effect, Cache hit: 4728/4781, Total price: 18550, :  82%|████████▏ | 14/17 [00:01<00:00,  9.59it/s]\n",
      "  0%|          | 0/7 [00:01<?, ?it/s]\n"
     ]
    },
    {
     "name": "stdout",
     "output_type": "stream",
     "text": [
      "An unknown error occurred. Raw response data: {'data': None, 'errors': [{'message': 'Server Error'}], 'extensions': {'is_final': True}}\n",
      "Error, retrying...\n"
     ]
    },
    {
     "name": "stderr",
     "output_type": "stream",
     "text": [
      "Task: 14,Endowment effect, Cache hit: 4875/4928, Total price: 18550, :  82%|████████▏ | 14/17 [00:01<00:00, 10.05it/s]\n",
      "  0%|          | 0/7 [00:01<?, ?it/s]\n"
     ]
    },
    {
     "name": "stdout",
     "output_type": "stream",
     "text": [
      "An unknown error occurred. Raw response data: {'data': None, 'errors': [{'message': 'Server Error'}], 'extensions': {'is_final': True}}\n",
      "Error, retrying...\n"
     ]
    },
    {
     "name": "stderr",
     "output_type": "stream",
     "text": [
      "Task: 14,Endowment effect, Cache hit: 5022/5075, Total price: 18550, :  82%|████████▏ | 14/17 [00:01<00:00,  9.29it/s]\n",
      "  0%|          | 0/7 [00:01<?, ?it/s]\n"
     ]
    },
    {
     "name": "stdout",
     "output_type": "stream",
     "text": [
      "An unknown error occurred. Raw response data: {'data': None, 'errors': [{'message': 'Server Error'}], 'extensions': {'is_final': True}}\n",
      "Error, retrying...\n"
     ]
    },
    {
     "name": "stderr",
     "output_type": "stream",
     "text": [
      "Task: 14,Endowment effect, Cache hit: 5169/5222, Total price: 18550, :  82%|████████▏ | 14/17 [00:01<00:00,  8.42it/s]\n",
      "  0%|          | 0/7 [00:01<?, ?it/s]\n"
     ]
    },
    {
     "name": "stdout",
     "output_type": "stream",
     "text": [
      "An unknown error occurred. Raw response data: {'data': None, 'errors': [{'message': 'Server Error'}], 'extensions': {'is_final': True}}\n",
      "Error, retrying...\n"
     ]
    },
    {
     "name": "stderr",
     "output_type": "stream",
     "text": [
      "Task: 14,Endowment effect, Cache hit: 5316/5369, Total price: 18550, :  82%|████████▏ | 14/17 [00:01<00:00,  9.33it/s]\n",
      "  0%|          | 0/7 [00:01<?, ?it/s]\n"
     ]
    },
    {
     "name": "stdout",
     "output_type": "stream",
     "text": [
      "An unknown error occurred. Raw response data: {'data': None, 'errors': [{'message': 'Server Error'}], 'extensions': {'is_final': True}}\n",
      "Error, retrying...\n"
     ]
    },
    {
     "name": "stderr",
     "output_type": "stream",
     "text": [
      "Task: 14,Endowment effect, Cache hit: 5463/5516, Total price: 18550, :  82%|████████▏ | 14/17 [00:01<00:00,  9.20it/s]\n",
      "  0%|          | 0/7 [00:01<?, ?it/s]\n"
     ]
    },
    {
     "name": "stdout",
     "output_type": "stream",
     "text": [
      "An unknown error occurred. Raw response data: {'data': None, 'errors': [{'message': 'Server Error'}], 'extensions': {'is_final': True}}\n",
      "Error, retrying...\n"
     ]
    },
    {
     "name": "stderr",
     "output_type": "stream",
     "text": [
      "Task: 14,Endowment effect, Cache hit: 5610/5663, Total price: 18550, :  82%|████████▏ | 14/17 [00:01<00:00, 10.81it/s]\n",
      "  0%|          | 0/7 [00:01<?, ?it/s]\n"
     ]
    },
    {
     "name": "stdout",
     "output_type": "stream",
     "text": [
      "An unknown error occurred. Raw response data: {'data': None, 'errors': [{'message': 'Server Error'}], 'extensions': {'is_final': True}}\n",
      "Error, retrying...\n"
     ]
    },
    {
     "name": "stderr",
     "output_type": "stream",
     "text": [
      "Task: 14,Endowment effect, Cache hit: 5757/5810, Total price: 18550, :  82%|████████▏ | 14/17 [00:01<00:00, 10.75it/s]\n",
      "  0%|          | 0/7 [00:01<?, ?it/s]\n"
     ]
    },
    {
     "name": "stdout",
     "output_type": "stream",
     "text": [
      "An unknown error occurred. Raw response data: {'data': None, 'errors': [{'message': 'Server Error'}], 'extensions': {'is_final': True}}\n",
      "Error, retrying...\n"
     ]
    },
    {
     "name": "stderr",
     "output_type": "stream",
     "text": [
      "Task: 14,Endowment effect, Cache hit: 5904/5957, Total price: 18550, :  82%|████████▏ | 14/17 [00:01<00:00,  9.42it/s]\n",
      "  0%|          | 0/7 [00:01<?, ?it/s]\n"
     ]
    },
    {
     "name": "stdout",
     "output_type": "stream",
     "text": [
      "An unknown error occurred. Raw response data: {'data': None, 'errors': [{'message': 'Server Error'}], 'extensions': {'is_final': True}}\n",
      "Error, retrying...\n"
     ]
    },
    {
     "name": "stderr",
     "output_type": "stream",
     "text": [
      "Task: 14,Endowment effect, Cache hit: 6051/6104, Total price: 18550, :  82%|████████▏ | 14/17 [00:01<00:00,  9.96it/s]\n",
      "  0%|          | 0/7 [00:01<?, ?it/s]\n"
     ]
    },
    {
     "name": "stdout",
     "output_type": "stream",
     "text": [
      "An unknown error occurred. Raw response data: {'data': None, 'errors': [{'message': 'Server Error'}], 'extensions': {'is_final': True}}\n",
      "Error, retrying...\n"
     ]
    },
    {
     "name": "stderr",
     "output_type": "stream",
     "text": [
      "Task: 14,Endowment effect, Cache hit: 6198/6251, Total price: 18550, :  82%|████████▏ | 14/17 [00:01<00:00,  9.43it/s]\n",
      "  0%|          | 0/7 [00:01<?, ?it/s]\n"
     ]
    },
    {
     "name": "stdout",
     "output_type": "stream",
     "text": [
      "An unknown error occurred. Raw response data: {'data': None, 'errors': [{'message': 'Server Error'}], 'extensions': {'is_final': True}}\n",
      "Error, retrying...\n"
     ]
    },
    {
     "name": "stderr",
     "output_type": "stream",
     "text": [
      "Task: 14,Endowment effect, Cache hit: 6345/6398, Total price: 18550, :  82%|████████▏ | 14/17 [00:01<00:00,  8.21it/s]\n",
      "  0%|          | 0/7 [00:01<?, ?it/s]\n"
     ]
    },
    {
     "name": "stdout",
     "output_type": "stream",
     "text": [
      "An unknown error occurred. Raw response data: {'data': None, 'errors': [{'message': 'Server Error'}], 'extensions': {'is_final': True}}\n",
      "Error, retrying...\n"
     ]
    },
    {
     "name": "stderr",
     "output_type": "stream",
     "text": [
      "Task: 14,Endowment effect, Cache hit: 6492/6545, Total price: 18550, :  82%|████████▏ | 14/17 [00:01<00:00, 10.14it/s]\n",
      "  0%|          | 0/7 [00:01<?, ?it/s]\n"
     ]
    },
    {
     "name": "stdout",
     "output_type": "stream",
     "text": [
      "An unknown error occurred. Raw response data: {'data': None, 'errors': [{'message': 'Server Error'}], 'extensions': {'is_final': True}}\n",
      "Error, retrying...\n"
     ]
    },
    {
     "name": "stderr",
     "output_type": "stream",
     "text": [
      "Task: 14,Endowment effect, Cache hit: 6639/6692, Total price: 18550, :  82%|████████▏ | 14/17 [00:01<00:00,  8.63it/s]\n",
      "  0%|          | 0/7 [00:01<?, ?it/s]\n"
     ]
    },
    {
     "name": "stdout",
     "output_type": "stream",
     "text": [
      "An unknown error occurred. Raw response data: {'data': None, 'errors': [{'message': 'Server Error'}], 'extensions': {'is_final': True}}\n",
      "Error, retrying...\n"
     ]
    },
    {
     "name": "stderr",
     "output_type": "stream",
     "text": [
      "Task: 14,Endowment effect, Cache hit: 6786/6839, Total price: 18550, :  82%|████████▏ | 14/17 [00:01<00:00, 10.62it/s]\n",
      "  0%|          | 0/7 [00:01<?, ?it/s]\n"
     ]
    },
    {
     "name": "stdout",
     "output_type": "stream",
     "text": [
      "An unknown error occurred. Raw response data: {'data': None, 'errors': [{'message': 'Server Error'}], 'extensions': {'is_final': True}}\n",
      "Error, retrying...\n"
     ]
    },
    {
     "name": "stderr",
     "output_type": "stream",
     "text": [
      "Task: 15,Pseudocertainty effect, Cache hit: 6933/6996, Total price: 22050, :  88%|████████▊ | 15/17 [00:32<00:04,  2.15s/it]\n",
      "  0%|          | 0/7 [00:32<?, ?it/s]\n"
     ]
    },
    {
     "name": "stdout",
     "output_type": "stream",
     "text": [
      "An unknown error occurred. Raw response data: {'data': None, 'errors': [{'message': 'Server Error'}], 'extensions': {'is_final': True}}\n",
      "Error, retrying...\n"
     ]
    },
    {
     "name": "stderr",
     "output_type": "stream",
     "text": [
      "Task: 15,Pseudocertainty effect, Cache hit: 7090/7153, Total price: 22050, :  88%|████████▊ | 15/17 [00:01<00:00, 10.04it/s]\n",
      "  0%|          | 0/7 [00:01<?, ?it/s]\n"
     ]
    },
    {
     "name": "stdout",
     "output_type": "stream",
     "text": [
      "An unknown error occurred. Raw response data: {'data': None, 'errors': [{'message': 'Server Error'}], 'extensions': {'is_final': True}}\n",
      "Error, retrying...\n"
     ]
    },
    {
     "name": "stderr",
     "output_type": "stream",
     "text": [
      "Task: 15,Pseudocertainty effect, Cache hit: 7247/7310, Total price: 22050, :  88%|████████▊ | 15/17 [00:01<00:00,  9.79it/s]\n",
      "  0%|          | 0/7 [00:01<?, ?it/s]\n"
     ]
    },
    {
     "name": "stdout",
     "output_type": "stream",
     "text": [
      "An unknown error occurred. Raw response data: {'data': None, 'errors': [{'message': 'Server Error'}], 'extensions': {'is_final': True}}\n",
      "Error, retrying...\n"
     ]
    },
    {
     "name": "stderr",
     "output_type": "stream",
     "text": [
      "Task: 15,Pseudocertainty effect, Cache hit: 7404/7467, Total price: 22050, :  88%|████████▊ | 15/17 [00:01<00:00, 10.42it/s]\n",
      "  0%|          | 0/7 [00:01<?, ?it/s]\n"
     ]
    },
    {
     "name": "stdout",
     "output_type": "stream",
     "text": [
      "An unknown error occurred. Raw response data: {'data': None, 'errors': [{'message': 'Server Error'}], 'extensions': {'is_final': True}}\n",
      "Error, retrying...\n"
     ]
    },
    {
     "name": "stderr",
     "output_type": "stream",
     "text": [
      "Task: 15,Pseudocertainty effect, Cache hit: 7561/7624, Total price: 22050, :  88%|████████▊ | 15/17 [00:01<00:00, 11.55it/s]\n",
      "  0%|          | 0/7 [00:01<?, ?it/s]\n"
     ]
    },
    {
     "name": "stdout",
     "output_type": "stream",
     "text": [
      "An unknown error occurred. Raw response data: {'data': None, 'errors': [{'message': 'Server Error'}], 'extensions': {'is_final': True}}\n",
      "Error, retrying...\n"
     ]
    },
    {
     "name": "stderr",
     "output_type": "stream",
     "text": [
      "Task: 15,Pseudocertainty effect, Cache hit: 7718/7781, Total price: 22050, :  88%|████████▊ | 15/17 [00:01<00:00, 10.38it/s]\n",
      "  0%|          | 0/7 [00:01<?, ?it/s]\n"
     ]
    },
    {
     "name": "stdout",
     "output_type": "stream",
     "text": [
      "An unknown error occurred. Raw response data: {'data': None, 'errors': [{'message': 'Server Error'}], 'extensions': {'is_final': True}}\n",
      "Error, retrying...\n"
     ]
    },
    {
     "name": "stderr",
     "output_type": "stream",
     "text": [
      "Task: 15,Pseudocertainty effect, Cache hit: 7875/7938, Total price: 22050, :  88%|████████▊ | 15/17 [00:01<00:00, 10.10it/s]\n",
      "  0%|          | 0/7 [00:01<?, ?it/s]\n"
     ]
    },
    {
     "name": "stdout",
     "output_type": "stream",
     "text": [
      "An unknown error occurred. Raw response data: {'data': None, 'errors': [{'message': 'Server Error'}], 'extensions': {'is_final': True}}\n",
      "Error, retrying...\n"
     ]
    },
    {
     "name": "stderr",
     "output_type": "stream",
     "text": [
      "Task: 15,Pseudocertainty effect, Cache hit: 8032/8095, Total price: 22050, :  88%|████████▊ | 15/17 [00:01<00:00, 10.83it/s]\n",
      "  0%|          | 0/7 [00:01<?, ?it/s]\n"
     ]
    },
    {
     "name": "stdout",
     "output_type": "stream",
     "text": [
      "An unknown error occurred. Raw response data: {'data': None, 'errors': [{'message': 'Server Error'}], 'extensions': {'is_final': True}}\n",
      "Error, retrying...\n"
     ]
    },
    {
     "name": "stderr",
     "output_type": "stream",
     "text": [
      "Task: 15,Pseudocertainty effect, Cache hit: 8189/8252, Total price: 22050, :  88%|████████▊ | 15/17 [00:01<00:00, 10.80it/s]\n",
      "  0%|          | 0/7 [00:01<?, ?it/s]\n"
     ]
    },
    {
     "name": "stdout",
     "output_type": "stream",
     "text": [
      "An unknown error occurred. Raw response data: {'data': None, 'errors': [{'message': 'Server Error'}], 'extensions': {'is_final': True}}\n",
      "Error, retrying...\n"
     ]
    },
    {
     "name": "stderr",
     "output_type": "stream",
     "text": [
      "Task: 15,Pseudocertainty effect, Cache hit: 8346/8409, Total price: 22050, :  88%|████████▊ | 15/17 [00:01<00:00, 12.80it/s]\n",
      "  0%|          | 0/7 [00:01<?, ?it/s]\n"
     ]
    },
    {
     "name": "stdout",
     "output_type": "stream",
     "text": [
      "An unknown error occurred. Raw response data: {'data': None, 'errors': [{'message': 'Server Error'}], 'extensions': {'is_final': True}}\n",
      "Error, retrying...\n"
     ]
    },
    {
     "name": "stderr",
     "output_type": "stream",
     "text": [
      "Task: 15,Pseudocertainty effect, Cache hit: 8503/8566, Total price: 22050, :  88%|████████▊ | 15/17 [00:01<00:00,  9.70it/s]\n",
      "  0%|          | 0/7 [00:01<?, ?it/s]\n"
     ]
    },
    {
     "name": "stdout",
     "output_type": "stream",
     "text": [
      "An unknown error occurred. Raw response data: {'data': None, 'errors': [{'message': 'Server Error'}], 'extensions': {'is_final': True}}\n",
      "Error, retrying...\n"
     ]
    },
    {
     "name": "stderr",
     "output_type": "stream",
     "text": [
      "Task: 15,Pseudocertainty effect, Cache hit: 8660/8723, Total price: 22050, :  88%|████████▊ | 15/17 [00:01<00:00, 10.62it/s]\n",
      "  0%|          | 0/7 [00:01<?, ?it/s]\n"
     ]
    },
    {
     "name": "stdout",
     "output_type": "stream",
     "text": [
      "An unknown error occurred. Raw response data: {'data': None, 'errors': [{'message': 'Server Error'}], 'extensions': {'is_final': True}}\n",
      "Error, retrying...\n"
     ]
    },
    {
     "name": "stderr",
     "output_type": "stream",
     "text": [
      "Task: 15,Pseudocertainty effect, Cache hit: 8817/8880, Total price: 22050, :  88%|████████▊ | 15/17 [00:01<00:00, 10.81it/s]\n",
      "  0%|          | 0/7 [00:01<?, ?it/s]\n"
     ]
    },
    {
     "name": "stdout",
     "output_type": "stream",
     "text": [
      "An unknown error occurred. Raw response data: {'data': None, 'errors': [{'message': 'Server Error'}], 'extensions': {'is_final': True}}\n",
      "Error, retrying...\n"
     ]
    },
    {
     "name": "stderr",
     "output_type": "stream",
     "text": [
      "Task: 15,Pseudocertainty effect, Cache hit: 8974/9037, Total price: 22050, :  88%|████████▊ | 15/17 [00:01<00:00,  9.11it/s]\n",
      "  0%|          | 0/7 [00:01<?, ?it/s]\n"
     ]
    },
    {
     "name": "stdout",
     "output_type": "stream",
     "text": [
      "An unknown error occurred. Raw response data: {'data': None, 'errors': [{'message': 'Server Error'}], 'extensions': {'is_final': True}}\n",
      "Error, retrying...\n"
     ]
    },
    {
     "name": "stderr",
     "output_type": "stream",
     "text": [
      "Task: 15,Pseudocertainty effect, Cache hit: 9131/9194, Total price: 22050, :  88%|████████▊ | 15/17 [00:01<00:00, 10.65it/s]\n",
      "  0%|          | 0/7 [00:01<?, ?it/s]\n"
     ]
    },
    {
     "name": "stdout",
     "output_type": "stream",
     "text": [
      "An unknown error occurred. Raw response data: {'data': None, 'errors': [{'message': 'Server Error'}], 'extensions': {'is_final': True}}\n",
      "Error, retrying...\n"
     ]
    },
    {
     "name": "stderr",
     "output_type": "stream",
     "text": [
      "Task: 15,Pseudocertainty effect, Cache hit: 9288/9351, Total price: 22050, :  88%|████████▊ | 15/17 [00:01<00:00,  9.94it/s]\n",
      "  0%|          | 0/7 [00:01<?, ?it/s]\n"
     ]
    },
    {
     "name": "stdout",
     "output_type": "stream",
     "text": [
      "An unknown error occurred. Raw response data: {'data': None, 'errors': [{'message': 'Server Error'}], 'extensions': {'is_final': True}}\n",
      "Error, retrying...\n"
     ]
    },
    {
     "name": "stderr",
     "output_type": "stream",
     "text": [
      "Task: 15,Pseudocertainty effect, Cache hit: 9445/9508, Total price: 22050, :  88%|████████▊ | 15/17 [00:01<00:00,  8.10it/s]\n",
      "  0%|          | 0/7 [00:01<?, ?it/s]\n"
     ]
    },
    {
     "name": "stdout",
     "output_type": "stream",
     "text": [
      "An unknown error occurred. Raw response data: {'data': None, 'errors': [{'message': 'Server Error'}], 'extensions': {'is_final': True}}\n",
      "Error, retrying...\n"
     ]
    },
    {
     "name": "stderr",
     "output_type": "stream",
     "text": [
      "Task: 15,Pseudocertainty effect, Cache hit: 9602/9665, Total price: 22050, :  88%|████████▊ | 15/17 [00:01<00:00, 10.40it/s]\n",
      "  0%|          | 0/7 [00:01<?, ?it/s]\n"
     ]
    },
    {
     "name": "stdout",
     "output_type": "stream",
     "text": [
      "An unknown error occurred. Raw response data: {'data': None, 'errors': [{'message': 'Server Error'}], 'extensions': {'is_final': True}}\n",
      "Error, retrying...\n"
     ]
    },
    {
     "name": "stderr",
     "output_type": "stream",
     "text": [
      "Task: 15,Pseudocertainty effect, Cache hit: 9759/9822, Total price: 22050, :  88%|████████▊ | 15/17 [00:01<00:00,  8.80it/s]\n",
      "  0%|          | 0/7 [00:01<?, ?it/s]\n"
     ]
    },
    {
     "name": "stdout",
     "output_type": "stream",
     "text": [
      "An unknown error occurred. Raw response data: {'data': None, 'errors': [{'message': 'Server Error'}], 'extensions': {'is_final': True}}\n",
      "Error, retrying...\n"
     ]
    },
    {
     "name": "stderr",
     "output_type": "stream",
     "text": [
      "Task: 15,Pseudocertainty effect, Cache hit: 9916/9979, Total price: 22050, :  88%|████████▊ | 15/17 [00:01<00:00, 11.72it/s]\n",
      "  0%|          | 0/7 [00:01<?, ?it/s]\n"
     ]
    },
    {
     "name": "stdout",
     "output_type": "stream",
     "text": [
      "An unknown error occurred. Raw response data: {'data': None, 'errors': [{'message': 'Server Error'}], 'extensions': {'is_final': True}}\n",
      "Error, retrying...\n"
     ]
    },
    {
     "name": "stderr",
     "output_type": "stream",
     "text": [
      "Task: 16,Pseudocertainty effect, Cache hit: 10073/10146, Total price: 25550, :  94%|█████████▍| 16/17 [00:35<00:02,  2.20s/it]\n",
      "  0%|          | 0/7 [00:35<?, ?it/s]\n"
     ]
    },
    {
     "name": "stdout",
     "output_type": "stream",
     "text": [
      "An unknown error occurred. Raw response data: {'data': None, 'errors': [{'message': 'Server Error'}], 'extensions': {'is_final': True}}\n",
      "Error, retrying...\n"
     ]
    },
    {
     "name": "stderr",
     "output_type": "stream",
     "text": [
      "Task: 16,Pseudocertainty effect, Cache hit: 10240/10313, Total price: 25550, :  94%|█████████▍| 16/17 [00:01<00:00, 10.33it/s]\n",
      "  0%|          | 0/7 [00:01<?, ?it/s]\n"
     ]
    },
    {
     "name": "stdout",
     "output_type": "stream",
     "text": [
      "An unknown error occurred. Raw response data: {'data': None, 'errors': [{'message': 'Server Error'}], 'extensions': {'is_final': True}}\n",
      "Error, retrying...\n"
     ]
    },
    {
     "name": "stderr",
     "output_type": "stream",
     "text": [
      "Task: 16,Pseudocertainty effect, Cache hit: 10407/10480, Total price: 25550, :  94%|█████████▍| 16/17 [00:01<00:00, 10.56it/s]\n",
      "  0%|          | 0/7 [00:01<?, ?it/s]\n"
     ]
    },
    {
     "name": "stdout",
     "output_type": "stream",
     "text": [
      "An unknown error occurred. Raw response data: {'data': None, 'errors': [{'message': 'Server Error'}], 'extensions': {'is_final': True}}\n",
      "Error, retrying...\n"
     ]
    },
    {
     "name": "stderr",
     "output_type": "stream",
     "text": [
      "Task: 16,Pseudocertainty effect, Cache hit: 10574/10647, Total price: 25550, :  94%|█████████▍| 16/17 [00:01<00:00,  9.98it/s]\n",
      "  0%|          | 0/7 [00:01<?, ?it/s]\n"
     ]
    },
    {
     "name": "stdout",
     "output_type": "stream",
     "text": [
      "An unknown error occurred. Raw response data: {'data': None, 'errors': [{'message': 'Server Error'}], 'extensions': {'is_final': True}}\n",
      "Error, retrying...\n"
     ]
    },
    {
     "name": "stderr",
     "output_type": "stream",
     "text": [
      "Task: 16,Pseudocertainty effect, Cache hit: 10741/10814, Total price: 25550, :  94%|█████████▍| 16/17 [00:01<00:00, 10.46it/s]\n",
      "  0%|          | 0/7 [00:01<?, ?it/s]\n"
     ]
    },
    {
     "name": "stdout",
     "output_type": "stream",
     "text": [
      "An unknown error occurred. Raw response data: {'data': None, 'errors': [{'message': 'Server Error'}], 'extensions': {'is_final': True}}\n",
      "Error, retrying...\n"
     ]
    },
    {
     "name": "stderr",
     "output_type": "stream",
     "text": [
      "Task: 16,Pseudocertainty effect, Cache hit: 10908/10981, Total price: 25550, :  94%|█████████▍| 16/17 [00:01<00:00, 10.18it/s]\n",
      "  0%|          | 0/7 [00:01<?, ?it/s]\n"
     ]
    },
    {
     "name": "stdout",
     "output_type": "stream",
     "text": [
      "An unknown error occurred. Raw response data: {'data': None, 'errors': [{'message': 'Server Error'}], 'extensions': {'is_final': True}}\n",
      "Error, retrying...\n"
     ]
    },
    {
     "name": "stderr",
     "output_type": "stream",
     "text": [
      "Task: 16,Pseudocertainty effect, Cache hit: 11075/11148, Total price: 25550, :  94%|█████████▍| 16/17 [00:01<00:00, 10.36it/s]\n",
      "  0%|          | 0/7 [00:01<?, ?it/s]\n"
     ]
    },
    {
     "name": "stdout",
     "output_type": "stream",
     "text": [
      "An unknown error occurred. Raw response data: {'data': None, 'errors': [{'message': 'Server Error'}], 'extensions': {'is_final': True}}\n",
      "Error, retrying...\n"
     ]
    },
    {
     "name": "stderr",
     "output_type": "stream",
     "text": [
      "Task: 16,Pseudocertainty effect, Cache hit: 11242/11315, Total price: 25550, :  94%|█████████▍| 16/17 [00:01<00:00, 10.18it/s]\n",
      "  0%|          | 0/7 [00:01<?, ?it/s]\n"
     ]
    },
    {
     "name": "stdout",
     "output_type": "stream",
     "text": [
      "An unknown error occurred. Raw response data: {'data': None, 'errors': [{'message': 'Server Error'}], 'extensions': {'is_final': True}}\n",
      "Error, retrying...\n"
     ]
    },
    {
     "name": "stderr",
     "output_type": "stream",
     "text": [
      "Task: 16,Pseudocertainty effect, Cache hit: 11409/11482, Total price: 25550, :  94%|█████████▍| 16/17 [00:01<00:00, 10.35it/s]\n",
      "  0%|          | 0/7 [00:01<?, ?it/s]\n"
     ]
    },
    {
     "name": "stdout",
     "output_type": "stream",
     "text": [
      "An unknown error occurred. Raw response data: {'data': None, 'errors': [{'message': 'Server Error'}], 'extensions': {'is_final': True}}\n",
      "Error, retrying...\n"
     ]
    },
    {
     "name": "stderr",
     "output_type": "stream",
     "text": [
      "Task: 16,Pseudocertainty effect, Cache hit: 11576/11649, Total price: 25550, :  94%|█████████▍| 16/17 [00:01<00:00,  9.98it/s]\n",
      "  0%|          | 0/7 [00:01<?, ?it/s]\n"
     ]
    },
    {
     "name": "stdout",
     "output_type": "stream",
     "text": [
      "An unknown error occurred. Raw response data: {'data': None, 'errors': [{'message': 'Server Error'}], 'extensions': {'is_final': True}}\n",
      "Error, retrying...\n"
     ]
    },
    {
     "name": "stderr",
     "output_type": "stream",
     "text": [
      "Task: 16,Pseudocertainty effect, Cache hit: 11743/11816, Total price: 25550, :  94%|█████████▍| 16/17 [00:01<00:00, 10.21it/s]\n",
      "  0%|          | 0/7 [00:01<?, ?it/s]\n"
     ]
    },
    {
     "name": "stdout",
     "output_type": "stream",
     "text": [
      "An unknown error occurred. Raw response data: {'data': None, 'errors': [{'message': 'Server Error'}], 'extensions': {'is_final': True}}\n",
      "Error, retrying...\n"
     ]
    },
    {
     "name": "stderr",
     "output_type": "stream",
     "text": [
      "Task: 16,Pseudocertainty effect, Cache hit: 11910/11983, Total price: 25550, :  94%|█████████▍| 16/17 [00:01<00:00, 11.82it/s]\n",
      "  0%|          | 0/7 [00:01<?, ?it/s]\n"
     ]
    },
    {
     "name": "stdout",
     "output_type": "stream",
     "text": [
      "An unknown error occurred. Raw response data: {'data': None, 'errors': [{'message': 'Server Error'}], 'extensions': {'is_final': True}}\n",
      "Error, retrying...\n"
     ]
    },
    {
     "name": "stderr",
     "output_type": "stream",
     "text": [
      "Task: 16,Pseudocertainty effect, Cache hit: 12077/12150, Total price: 25550, :  94%|█████████▍| 16/17 [00:01<00:00, 11.39it/s]\n",
      "  0%|          | 0/7 [00:01<?, ?it/s]\n"
     ]
    },
    {
     "name": "stdout",
     "output_type": "stream",
     "text": [
      "An unknown error occurred. Raw response data: {'data': None, 'errors': [{'message': 'Server Error'}], 'extensions': {'is_final': True}}\n",
      "Error, retrying...\n"
     ]
    },
    {
     "name": "stderr",
     "output_type": "stream",
     "text": [
      "Task: 16,Pseudocertainty effect, Cache hit: 12244/12317, Total price: 25550, :  94%|█████████▍| 16/17 [00:01<00:00, 11.24it/s]\n",
      "  0%|          | 0/7 [00:01<?, ?it/s]\n"
     ]
    },
    {
     "name": "stdout",
     "output_type": "stream",
     "text": [
      "An unknown error occurred. Raw response data: {'data': None, 'errors': [{'message': 'Server Error'}], 'extensions': {'is_final': True}}\n",
      "Error, retrying...\n"
     ]
    },
    {
     "name": "stderr",
     "output_type": "stream",
     "text": [
      "Task: 16,Pseudocertainty effect, Cache hit: 12411/12484, Total price: 25550, :  94%|█████████▍| 16/17 [00:01<00:00, 10.23it/s]\n",
      "  0%|          | 0/7 [00:01<?, ?it/s]\n"
     ]
    },
    {
     "name": "stdout",
     "output_type": "stream",
     "text": [
      "An unknown error occurred. Raw response data: {'data': None, 'errors': [{'message': 'Server Error'}], 'extensions': {'is_final': True}}\n",
      "Error, retrying...\n"
     ]
    },
    {
     "name": "stderr",
     "output_type": "stream",
     "text": [
      "Task: 16,Pseudocertainty effect, Cache hit: 12578/12651, Total price: 25550, :  94%|█████████▍| 16/17 [00:01<00:00, 10.51it/s]\n",
      "  0%|          | 0/7 [00:01<?, ?it/s]\n"
     ]
    },
    {
     "name": "stdout",
     "output_type": "stream",
     "text": [
      "An unknown error occurred. Raw response data: {'data': None, 'errors': [{'message': 'Server Error'}], 'extensions': {'is_final': True}}\n",
      "Error, retrying...\n"
     ]
    },
    {
     "name": "stderr",
     "output_type": "stream",
     "text": [
      "Task: 16,Pseudocertainty effect, Cache hit: 12745/12818, Total price: 25550, :  94%|█████████▍| 16/17 [00:01<00:00,  9.16it/s]\n",
      "  0%|          | 0/7 [00:01<?, ?it/s]\n"
     ]
    },
    {
     "name": "stdout",
     "output_type": "stream",
     "text": [
      "An unknown error occurred. Raw response data: {'data': None, 'errors': [{'message': 'Server Error'}], 'extensions': {'is_final': True}}\n",
      "Error, retrying...\n"
     ]
    },
    {
     "name": "stderr",
     "output_type": "stream",
     "text": [
      "Task: 16,Pseudocertainty effect, Cache hit: 12912/12988, Total price: 26600, : 100%|██████████| 17/17 [00:09<00:00,  1.86it/s]\n",
      " 14%|█▍        | 1/7 [00:09<00:54,  9.15s/it]2024-04-19 01:56:09.396 | INFO     | poe_api_wrapper.api:send_message:675 - New Thread created | 27sl536g09a51163bn5\n",
      "Task: 0,Anchoring effect, Cache hit: 12912/12995, Total price: 26740, :   0%|          | 0/17 [00:29<?, ?it/s]\n",
      " 14%|█▍        | 1/7 [00:38<03:51, 38.61s/it]\n"
     ]
    },
    {
     "name": "stdout",
     "output_type": "stream",
     "text": [
      "An unknown error occurred. Raw response data: {'data': None, 'errors': [{'message': 'Server Error'}], 'extensions': {'is_final': True}}\n",
      "Error, retrying...\n"
     ]
    },
    {
     "name": "stderr",
     "output_type": "stream",
     "text": [
      "Task: 16,Pseudocertainty effect, Cache hit: 13082/13165, Total price: 26740, : 100%|██████████| 17/17 [00:00<00:00, 51.56it/s]\n",
      "Task: 0,Anchoring effect, Cache hit: 13089/13172, Total price: 26740, :   0%|          | 0/17 [00:00<?, ?it/s]\n",
      " 14%|█▍        | 1/7 [00:01<00:08,  1.33s/it]\n"
     ]
    },
    {
     "name": "stdout",
     "output_type": "stream",
     "text": [
      "An unknown error occurred. Raw response data: {'data': None, 'errors': [{'message': 'Server Error'}], 'extensions': {'is_final': True}}\n",
      "Error, retrying...\n"
     ]
    },
    {
     "name": "stderr",
     "output_type": "stream",
     "text": [
      "Task: 16,Pseudocertainty effect, Cache hit: 13259/13342, Total price: 26740, : 100%|██████████| 17/17 [00:00<00:00, 53.02it/s]\n",
      "Task: 0,Anchoring effect, Cache hit: 13266/13349, Total price: 26740, :   0%|          | 0/17 [00:00<?, ?it/s]\n",
      " 14%|█▍        | 1/7 [00:01<00:07,  1.30s/it]\n"
     ]
    },
    {
     "name": "stdout",
     "output_type": "stream",
     "text": [
      "An unknown error occurred. Raw response data: {'data': None, 'errors': [{'message': 'Server Error'}], 'extensions': {'is_final': True}}\n",
      "Error, retrying...\n"
     ]
    },
    {
     "name": "stderr",
     "output_type": "stream",
     "text": [
      "Task: 16,Pseudocertainty effect, Cache hit: 13436/13519, Total price: 26740, : 100%|██████████| 17/17 [00:00<00:00, 47.37it/s]\n",
      "Task: 0,Anchoring effect, Cache hit: 13443/13526, Total price: 26740, :   0%|          | 0/17 [00:00<?, ?it/s]\n",
      " 14%|█▍        | 1/7 [00:01<00:07,  1.28s/it]\n"
     ]
    },
    {
     "name": "stdout",
     "output_type": "stream",
     "text": [
      "An unknown error occurred. Raw response data: {'data': None, 'errors': [{'message': 'Server Error'}], 'extensions': {'is_final': True}}\n",
      "Error, retrying...\n"
     ]
    },
    {
     "name": "stderr",
     "output_type": "stream",
     "text": [
      "Task: 16,Pseudocertainty effect, Cache hit: 13613/13696, Total price: 26740, : 100%|██████████| 17/17 [00:00<00:00, 49.73it/s]\n",
      "Task: 0,Anchoring effect, Cache hit: 13620/13703, Total price: 26740, :   0%|          | 0/17 [00:01<?, ?it/s]\n",
      " 14%|█▍        | 1/7 [00:01<00:08,  1.41s/it]\n"
     ]
    },
    {
     "name": "stdout",
     "output_type": "stream",
     "text": [
      "An unknown error occurred. Raw response data: {'data': None, 'errors': [{'message': 'Server Error'}], 'extensions': {'is_final': True}}\n",
      "Error, retrying...\n"
     ]
    },
    {
     "name": "stderr",
     "output_type": "stream",
     "text": [
      "Task: 16,Pseudocertainty effect, Cache hit: 13790/13873, Total price: 26740, : 100%|██████████| 17/17 [00:00<00:00, 48.85it/s]\n",
      "Task: 0,Anchoring effect, Cache hit: 13797/13880, Total price: 26740, :   0%|          | 0/17 [00:00<?, ?it/s]\n",
      " 14%|█▍        | 1/7 [00:01<00:08,  1.33s/it]\n"
     ]
    },
    {
     "name": "stdout",
     "output_type": "stream",
     "text": [
      "An unknown error occurred. Raw response data: {'data': None, 'errors': [{'message': 'Server Error'}], 'extensions': {'is_final': True}}\n",
      "Error, retrying...\n"
     ]
    },
    {
     "name": "stderr",
     "output_type": "stream",
     "text": [
      "Task: 16,Pseudocertainty effect, Cache hit: 13967/14050, Total price: 26740, : 100%|██████████| 17/17 [00:00<00:00, 44.39it/s]\n",
      "Task: 0,Anchoring effect, Cache hit: 13974/14057, Total price: 26740, :   0%|          | 0/17 [00:00<?, ?it/s]\n",
      " 14%|█▍        | 1/7 [00:01<00:08,  1.35s/it]\n"
     ]
    },
    {
     "name": "stdout",
     "output_type": "stream",
     "text": [
      "An unknown error occurred. Raw response data: {'data': None, 'errors': [{'message': 'Server Error'}], 'extensions': {'is_final': True}}\n",
      "Error, retrying...\n"
     ]
    },
    {
     "name": "stderr",
     "output_type": "stream",
     "text": [
      "Task: 16,Pseudocertainty effect, Cache hit: 14144/14227, Total price: 26740, : 100%|██████████| 17/17 [00:00<00:00, 55.49it/s]\n",
      "Task: 0,Anchoring effect, Cache hit: 14151/14234, Total price: 26740, :   0%|          | 0/17 [00:01<?, ?it/s]\n",
      " 14%|█▍        | 1/7 [00:01<00:10,  1.77s/it]\n"
     ]
    },
    {
     "name": "stdout",
     "output_type": "stream",
     "text": [
      "An unknown error occurred. Raw response data: {'data': None, 'errors': [{'message': 'Server Error'}], 'extensions': {'is_final': True}}\n",
      "Error, retrying...\n"
     ]
    },
    {
     "name": "stderr",
     "output_type": "stream",
     "text": [
      "Task: 16,Pseudocertainty effect, Cache hit: 14321/14404, Total price: 26740, : 100%|██████████| 17/17 [00:00<00:00, 47.69it/s]\n",
      "Task: 0,Anchoring effect, Cache hit: 14328/14411, Total price: 26740, :   0%|          | 0/17 [00:01<?, ?it/s]\n",
      " 14%|█▍        | 1/7 [00:01<00:08,  1.39s/it]\n"
     ]
    },
    {
     "name": "stdout",
     "output_type": "stream",
     "text": [
      "An unknown error occurred. Raw response data: {'data': None, 'errors': [{'message': 'Server Error'}], 'extensions': {'is_final': True}}\n",
      "Error, retrying...\n"
     ]
    },
    {
     "name": "stderr",
     "output_type": "stream",
     "text": [
      "Task: 16,Pseudocertainty effect, Cache hit: 14498/14581, Total price: 26740, : 100%|██████████| 17/17 [00:00<00:00, 43.37it/s]\n",
      "Task: 0,Anchoring effect, Cache hit: 14505/14588, Total price: 26740, :   0%|          | 0/17 [00:01<?, ?it/s]\n",
      " 14%|█▍        | 1/7 [00:01<00:08,  1.40s/it]\n"
     ]
    },
    {
     "name": "stdout",
     "output_type": "stream",
     "text": [
      "An unknown error occurred. Raw response data: {'data': None, 'errors': [{'message': 'Server Error'}], 'extensions': {'is_final': True}}\n",
      "Error, retrying...\n"
     ]
    },
    {
     "name": "stderr",
     "output_type": "stream",
     "text": [
      "Task: 16,Pseudocertainty effect, Cache hit: 14675/14758, Total price: 26740, : 100%|██████████| 17/17 [00:00<00:00, 45.60it/s]\n",
      "Task: 0,Anchoring effect, Cache hit: 14682/14765, Total price: 26740, :   0%|          | 0/17 [00:00<?, ?it/s]\n",
      " 14%|█▍        | 1/7 [00:01<00:07,  1.32s/it]\n"
     ]
    },
    {
     "name": "stdout",
     "output_type": "stream",
     "text": [
      "An unknown error occurred. Raw response data: {'data': None, 'errors': [{'message': 'Server Error'}], 'extensions': {'is_final': True}}\n",
      "Error, retrying...\n"
     ]
    },
    {
     "name": "stderr",
     "output_type": "stream",
     "text": [
      "Task: 16,Pseudocertainty effect, Cache hit: 14852/14935, Total price: 26740, : 100%|██████████| 17/17 [00:00<00:00, 48.93it/s]\n",
      "Task: 0,Anchoring effect, Cache hit: 14859/14942, Total price: 26740, :   0%|          | 0/17 [00:01<?, ?it/s]\n",
      " 14%|█▍        | 1/7 [00:01<00:08,  1.37s/it]\n"
     ]
    },
    {
     "name": "stdout",
     "output_type": "stream",
     "text": [
      "An unknown error occurred. Raw response data: {'data': None, 'errors': [{'message': 'Server Error'}], 'extensions': {'is_final': True}}\n",
      "Error, retrying...\n"
     ]
    },
    {
     "name": "stderr",
     "output_type": "stream",
     "text": [
      "Task: 16,Pseudocertainty effect, Cache hit: 15029/15112, Total price: 26740, : 100%|██████████| 17/17 [00:00<00:00, 46.71it/s]\n",
      "Task: 0,Anchoring effect, Cache hit: 15036/15119, Total price: 26740, :   0%|          | 0/17 [00:00<?, ?it/s]\n",
      " 14%|█▍        | 1/7 [00:01<00:07,  1.30s/it]\n"
     ]
    },
    {
     "name": "stdout",
     "output_type": "stream",
     "text": [
      "An unknown error occurred. Raw response data: {'data': None, 'errors': [{'message': 'Server Error'}], 'extensions': {'is_final': True}}\n",
      "Error, retrying...\n"
     ]
    },
    {
     "name": "stderr",
     "output_type": "stream",
     "text": [
      "Task: 16,Pseudocertainty effect, Cache hit: 15206/15289, Total price: 26740, : 100%|██████████| 17/17 [00:00<00:00, 52.09it/s]\n",
      "Task: 0,Anchoring effect, Cache hit: 15213/15296, Total price: 26740, :   0%|          | 0/17 [00:00<?, ?it/s]\n",
      " 14%|█▍        | 1/7 [00:01<00:07,  1.30s/it]\n"
     ]
    },
    {
     "name": "stdout",
     "output_type": "stream",
     "text": [
      "An unknown error occurred. Raw response data: {'data': None, 'errors': [{'message': 'Server Error'}], 'extensions': {'is_final': True}}\n",
      "Error, retrying...\n"
     ]
    },
    {
     "name": "stderr",
     "output_type": "stream",
     "text": [
      "Task: 16,Pseudocertainty effect, Cache hit: 15383/15466, Total price: 26740, : 100%|██████████| 17/17 [00:00<00:00, 47.52it/s]\n",
      "Task: 0,Anchoring effect, Cache hit: 15390/15473, Total price: 26740, :   0%|          | 0/17 [00:01<?, ?it/s]\n",
      " 14%|█▍        | 1/7 [00:01<00:10,  1.67s/it]\n"
     ]
    },
    {
     "name": "stdout",
     "output_type": "stream",
     "text": [
      "An unknown error occurred. Raw response data: {'data': None, 'errors': [{'message': 'Server Error'}], 'extensions': {'is_final': True}}\n",
      "Error, retrying...\n"
     ]
    },
    {
     "name": "stderr",
     "output_type": "stream",
     "text": [
      "Task: 16,Pseudocertainty effect, Cache hit: 15560/15643, Total price: 26740, : 100%|██████████| 17/17 [00:00<00:00, 38.95it/s]\n",
      "Task: 0,Anchoring effect, Cache hit: 15567/15650, Total price: 26740, :   0%|          | 0/17 [00:00<?, ?it/s]\n",
      " 14%|█▍        | 1/7 [00:01<00:08,  1.41s/it]\n"
     ]
    },
    {
     "name": "stdout",
     "output_type": "stream",
     "text": [
      "An unknown error occurred. Raw response data: {'data': None, 'errors': [{'message': 'Server Error'}], 'extensions': {'is_final': True}}\n",
      "Error, retrying...\n"
     ]
    },
    {
     "name": "stderr",
     "output_type": "stream",
     "text": [
      "Task: 16,Pseudocertainty effect, Cache hit: 15737/15820, Total price: 26740, : 100%|██████████| 17/17 [00:00<00:00, 42.81it/s]\n",
      "Task: 0,Anchoring effect, Cache hit: 15744/15828, Total price: 26760, :   0%|          | 0/17 [00:07<?, ?it/s]\n",
      " 14%|█▍        | 1/7 [00:08<00:50,  8.38s/it]\n"
     ]
    },
    {
     "ename": "KeyboardInterrupt",
     "evalue": "",
     "output_type": "error",
     "traceback": [
      "\u001b[0;31m---------------------------------------------------------------------------\u001b[0m",
      "\u001b[0;31mKeyboardInterrupt\u001b[0m                         Traceback (most recent call last)",
      "Cell \u001b[0;32mIn[15], line 44\u001b[0m\n\u001b[1;32m     40\u001b[0m answers[\u001b[38;5;124m\"\u001b[39m\u001b[38;5;124mtasks\u001b[39m\u001b[38;5;124m\"\u001b[39m][task_id][\u001b[38;5;124m\"\u001b[39m\u001b[38;5;124manswers\u001b[39m\u001b[38;5;124m\"\u001b[39m] \u001b[38;5;241m=\u001b[39m []\n\u001b[1;32m     42\u001b[0m \u001b[38;5;28;01mfor\u001b[39;00m i \u001b[38;5;129;01min\u001b[39;00m \u001b[38;5;28mrange\u001b[39m(configs[\u001b[38;5;124m\"\u001b[39m\u001b[38;5;124mexp_start\u001b[39m\u001b[38;5;124m\"\u001b[39m], configs[\u001b[38;5;124m\"\u001b[39m\u001b[38;5;124mexp_repeats\u001b[39m\u001b[38;5;124m\"\u001b[39m]):\n\u001b[0;32m---> 44\u001b[0m     ans \u001b[38;5;241m=\u001b[39m \u001b[43mcacher\u001b[49m\u001b[38;5;241;43m.\u001b[39;49m\u001b[43msend_message\u001b[49m\u001b[43m(\u001b[49m\n\u001b[1;32m     45\u001b[0m \u001b[43m        \u001b[49m\u001b[43mclient\u001b[49m\u001b[38;5;241;43m=\u001b[39;49m\u001b[43mclient\u001b[49m\u001b[43m,\u001b[49m\n\u001b[1;32m     46\u001b[0m \u001b[43m        \u001b[49m\u001b[43mbot\u001b[49m\u001b[38;5;241;43m=\u001b[39;49m\u001b[43mbot\u001b[49m\u001b[43m,\u001b[49m\n\u001b[1;32m     47\u001b[0m \u001b[43m        \u001b[49m\u001b[43mmessage\u001b[49m\u001b[38;5;241;43m=\u001b[39;49m\u001b[43mtask_text\u001b[49m\u001b[43m,\u001b[49m\n\u001b[1;32m     48\u001b[0m \u001b[43m        \u001b[49m\u001b[43muse_cache\u001b[49m\u001b[38;5;241;43m=\u001b[39;49m\u001b[38;5;28;43;01mTrue\u001b[39;49;00m\u001b[43m,\u001b[49m\n\u001b[1;32m     49\u001b[0m \u001b[43m        \u001b[49m\u001b[43madd_to_cache\u001b[49m\u001b[38;5;241;43m=\u001b[39;49m\u001b[38;5;28;43;01mTrue\u001b[39;49;00m\u001b[43m,\u001b[49m\n\u001b[1;32m     50\u001b[0m \u001b[43m        \u001b[49m\u001b[43mtrial_id\u001b[49m\u001b[38;5;241;43m=\u001b[39;49m\u001b[38;5;28;43mstr\u001b[39;49m\u001b[43m(\u001b[49m\u001b[43mi\u001b[49m\u001b[43m)\u001b[49m\u001b[43m,\u001b[49m\n\u001b[1;32m     51\u001b[0m \u001b[43m    \u001b[49m\u001b[43m)\u001b[49m\n\u001b[1;32m     53\u001b[0m     \u001b[38;5;28;01mif\u001b[39;00m cacher\u001b[38;5;241m.\u001b[39mlast_ret \u001b[38;5;129;01mis\u001b[39;00m \u001b[38;5;129;01mnot\u001b[39;00m \u001b[38;5;28;01mNone\u001b[39;00m:\n\u001b[1;32m     54\u001b[0m         tot_price \u001b[38;5;241m+\u001b[39m\u001b[38;5;241m=\u001b[39m cacher\u001b[38;5;241m.\u001b[39mlast_ret[\u001b[38;5;124m\"\u001b[39m\u001b[38;5;124mmsgPrice\u001b[39m\u001b[38;5;124m\"\u001b[39m]\n",
      "File \u001b[0;32m~/pku/gradpaper/LLMCogBias/cache.py:135\u001b[0m, in \u001b[0;36mCacher.send_message\u001b[0;34m(self, client, bot, message, chatId, chatCode, msgPrice, file_path, suggest_replies, timeout, use_cache, add_to_cache, trial_id)\u001b[0m\n\u001b[1;32m    133\u001b[0m current_msg_cache \u001b[38;5;241m=\u001b[39m current_bot_cache[message]\n\u001b[1;32m    134\u001b[0m \u001b[38;5;28;01mif\u001b[39;00m trial_id \u001b[38;5;129;01mnot\u001b[39;00m \u001b[38;5;129;01min\u001b[39;00m current_msg_cache:\n\u001b[0;32m--> 135\u001b[0m     ret \u001b[38;5;241m=\u001b[39m \u001b[38;5;28;43mself\u001b[39;49m\u001b[38;5;241;43m.\u001b[39;49m\u001b[43m_request_2_respond\u001b[49m\u001b[43m(\u001b[49m\n\u001b[1;32m    136\u001b[0m \u001b[43m        \u001b[49m\u001b[43mclient\u001b[49m\u001b[43m,\u001b[49m\n\u001b[1;32m    137\u001b[0m \u001b[43m        \u001b[49m\u001b[43mbot\u001b[49m\u001b[43m,\u001b[49m\n\u001b[1;32m    138\u001b[0m \u001b[43m        \u001b[49m\u001b[43mmessage\u001b[49m\u001b[43m,\u001b[49m\n\u001b[1;32m    139\u001b[0m \u001b[43m        \u001b[49m\u001b[43mchatId\u001b[49m\u001b[43m,\u001b[49m\n\u001b[1;32m    140\u001b[0m \u001b[43m        \u001b[49m\u001b[43mchatCode\u001b[49m\u001b[43m,\u001b[49m\n\u001b[1;32m    141\u001b[0m \u001b[43m        \u001b[49m\u001b[43mmsgPrice\u001b[49m\u001b[43m,\u001b[49m\n\u001b[1;32m    142\u001b[0m \u001b[43m        \u001b[49m\u001b[43mfile_path\u001b[49m\u001b[43m,\u001b[49m\n\u001b[1;32m    143\u001b[0m \u001b[43m        \u001b[49m\u001b[43msuggest_replies\u001b[49m\u001b[43m,\u001b[49m\n\u001b[1;32m    144\u001b[0m \u001b[43m        \u001b[49m\u001b[43mtimeout\u001b[49m\u001b[43m,\u001b[49m\n\u001b[1;32m    145\u001b[0m \u001b[43m    \u001b[49m\u001b[43m)\u001b[49m\n\u001b[1;32m    147\u001b[0m     current_msg_cache[trial_id] \u001b[38;5;241m=\u001b[39m ret\n\u001b[1;32m    148\u001b[0m     current_bot_cache[message]\u001b[38;5;241m.\u001b[39mupdate(current_msg_cache)\n",
      "File \u001b[0;32m~/pku/gradpaper/LLMCogBias/cache.py:62\u001b[0m, in \u001b[0;36mCacher._request_2_respond\u001b[0;34m(self, client, bot, message, chatId, *args, **kwargs)\u001b[0m\n\u001b[1;32m     58\u001b[0m     \u001b[38;5;28;01mpass\u001b[39;00m\n\u001b[1;32m     60\u001b[0m \u001b[38;5;28mself\u001b[39m\u001b[38;5;241m.\u001b[39mactive_bot_chatId[bot] \u001b[38;5;241m=\u001b[39m chunk[\u001b[38;5;124m\"\u001b[39m\u001b[38;5;124mchatId\u001b[39m\u001b[38;5;124m\"\u001b[39m]\n\u001b[0;32m---> 62\u001b[0m \u001b[43mclient\u001b[49m\u001b[38;5;241;43m.\u001b[39;49m\u001b[43mchat_break\u001b[49m\u001b[43m(\u001b[49m\u001b[43mbot\u001b[49m\u001b[43m,\u001b[49m\u001b[43m \u001b[49m\u001b[43mchatId\u001b[49m\u001b[43m)\u001b[49m\n\u001b[1;32m     64\u001b[0m \u001b[38;5;28mself\u001b[39m\u001b[38;5;241m.\u001b[39mlast_ret \u001b[38;5;241m=\u001b[39m {\n\u001b[1;32m     65\u001b[0m     \u001b[38;5;124m\"\u001b[39m\u001b[38;5;124mis_cache\u001b[39m\u001b[38;5;124m\"\u001b[39m: \u001b[38;5;28;01mFalse\u001b[39;00m,\n\u001b[1;32m     66\u001b[0m     \u001b[38;5;124m\"\u001b[39m\u001b[38;5;124mtext\u001b[39m\u001b[38;5;124m\"\u001b[39m: chunk[\u001b[38;5;124m\"\u001b[39m\u001b[38;5;124mtext\u001b[39m\u001b[38;5;124m\"\u001b[39m],\n\u001b[0;32m   (...)\u001b[0m\n\u001b[1;32m     70\u001b[0m     \u001b[38;5;124m\"\u001b[39m\u001b[38;5;124mbot\u001b[39m\u001b[38;5;124m\"\u001b[39m: chunk[\u001b[38;5;124m\"\u001b[39m\u001b[38;5;124mbot\u001b[39m\u001b[38;5;124m\"\u001b[39m][\u001b[38;5;124m\"\u001b[39m\u001b[38;5;124mdisplayName\u001b[39m\u001b[38;5;124m\"\u001b[39m],\n\u001b[1;32m     71\u001b[0m }\n\u001b[1;32m     73\u001b[0m \u001b[38;5;28mself\u001b[39m\u001b[38;5;241m.\u001b[39mactive_bot_chatId[chunk[\u001b[38;5;124m\"\u001b[39m\u001b[38;5;124mbot\u001b[39m\u001b[38;5;124m\"\u001b[39m][\u001b[38;5;124m\"\u001b[39m\u001b[38;5;124mdisplayName\u001b[39m\u001b[38;5;124m\"\u001b[39m]] \u001b[38;5;241m=\u001b[39m chunk[\u001b[38;5;124m\"\u001b[39m\u001b[38;5;124mchatId\u001b[39m\u001b[38;5;124m\"\u001b[39m]\n",
      "File \u001b[0;32m~/miniconda3/envs/llmcb/lib/python3.11/site-packages/poe_api_wrapper/api.py:868\u001b[0m, in \u001b[0;36mPoeApi.chat_break\u001b[0;34m(self, bot, chatId, chatCode)\u001b[0m\n\u001b[1;32m    866\u001b[0m \u001b[38;5;28;01mdef\u001b[39;00m \u001b[38;5;21mchat_break\u001b[39m(\u001b[38;5;28mself\u001b[39m, bot: \u001b[38;5;28mstr\u001b[39m, chatId: \u001b[38;5;28mint\u001b[39m\u001b[38;5;241m=\u001b[39m\u001b[38;5;28;01mNone\u001b[39;00m, chatCode: \u001b[38;5;28mstr\u001b[39m\u001b[38;5;241m=\u001b[39m\u001b[38;5;28;01mNone\u001b[39;00m):\n\u001b[1;32m    867\u001b[0m     bot \u001b[38;5;241m=\u001b[39m bot_map(bot)\n\u001b[0;32m--> 868\u001b[0m     chatdata \u001b[38;5;241m=\u001b[39m \u001b[38;5;28;43mself\u001b[39;49m\u001b[38;5;241;43m.\u001b[39;49m\u001b[43mget_threadData\u001b[49m\u001b[43m(\u001b[49m\u001b[43mbot\u001b[49m\u001b[43m,\u001b[49m\u001b[43m \u001b[49m\u001b[43mchatCode\u001b[49m\u001b[43m,\u001b[49m\u001b[43m \u001b[49m\u001b[43mchatId\u001b[49m\u001b[43m)\u001b[49m\n\u001b[1;32m    869\u001b[0m     chatId \u001b[38;5;241m=\u001b[39m chatdata[\u001b[38;5;124m'\u001b[39m\u001b[38;5;124mchatId\u001b[39m\u001b[38;5;124m'\u001b[39m]\n\u001b[1;32m    870\u001b[0m     variables \u001b[38;5;241m=\u001b[39m {\u001b[38;5;124m'\u001b[39m\u001b[38;5;124mchatId\u001b[39m\u001b[38;5;124m'\u001b[39m: chatId, \u001b[38;5;124m'\u001b[39m\u001b[38;5;124mclientNonce\u001b[39m\u001b[38;5;124m'\u001b[39m: generate_nonce()}\n",
      "File \u001b[0;32m~/miniconda3/envs/llmcb/lib/python3.11/site-packages/poe_api_wrapper/api.py:374\u001b[0m, in \u001b[0;36mPoeApi.get_threadData\u001b[0;34m(self, bot, chatCode, chatId)\u001b[0m\n\u001b[1;32m    372\u001b[0m     \u001b[38;5;28mself\u001b[39m\u001b[38;5;241m.\u001b[39mcurrent_thread[bot] \u001b[38;5;241m=\u001b[39m \u001b[38;5;28mself\u001b[39m\u001b[38;5;241m.\u001b[39mget_chat_history(bot\u001b[38;5;241m=\u001b[39mbot)[\u001b[38;5;124m'\u001b[39m\u001b[38;5;124mdata\u001b[39m\u001b[38;5;124m'\u001b[39m][bot]\n\u001b[1;32m    373\u001b[0m \u001b[38;5;28;01melif\u001b[39;00m \u001b[38;5;28mlen\u001b[39m(\u001b[38;5;28mself\u001b[39m\u001b[38;5;241m.\u001b[39mcurrent_thread[bot]) \u001b[38;5;241m<\u001b[39m\u001b[38;5;241m=\u001b[39m \u001b[38;5;241m1\u001b[39m:\n\u001b[0;32m--> 374\u001b[0m     \u001b[38;5;28mself\u001b[39m\u001b[38;5;241m.\u001b[39mcurrent_thread[bot] \u001b[38;5;241m=\u001b[39m \u001b[38;5;28;43mself\u001b[39;49m\u001b[38;5;241;43m.\u001b[39;49m\u001b[43mget_chat_history\u001b[49m\u001b[43m(\u001b[49m\u001b[43mbot\u001b[49m\u001b[38;5;241;43m=\u001b[39;49m\u001b[43mbot\u001b[49m\u001b[43m)\u001b[49m[\u001b[38;5;124m'\u001b[39m\u001b[38;5;124mdata\u001b[39m\u001b[38;5;124m'\u001b[39m][bot]\n\u001b[1;32m    375\u001b[0m \u001b[38;5;28;01mif\u001b[39;00m chatCode \u001b[38;5;241m!=\u001b[39m \u001b[38;5;28;01mNone\u001b[39;00m:\n\u001b[1;32m    376\u001b[0m     \u001b[38;5;28;01mfor\u001b[39;00m chat \u001b[38;5;129;01min\u001b[39;00m \u001b[38;5;28mself\u001b[39m\u001b[38;5;241m.\u001b[39mcurrent_thread[bot]:\n",
      "File \u001b[0;32m~/miniconda3/envs/llmcb/lib/python3.11/site-packages/poe_api_wrapper/api.py:326\u001b[0m, in \u001b[0;36mPoeApi.get_chat_history\u001b[0;34m(self, bot, count, interval, cursor)\u001b[0m\n\u001b[1;32m    324\u001b[0m         handle \u001b[38;5;241m=\u001b[39m key\n\u001b[1;32m    325\u001b[0m         \u001b[38;5;28;01mbreak\u001b[39;00m\n\u001b[0;32m--> 326\u001b[0m response_json \u001b[38;5;241m=\u001b[39m \u001b[38;5;28;43mself\u001b[39;49m\u001b[38;5;241;43m.\u001b[39;49m\u001b[43msend_request\u001b[49m\u001b[43m(\u001b[49m\u001b[38;5;124;43m'\u001b[39;49m\u001b[38;5;124;43mgql_POST\u001b[39;49m\u001b[38;5;124;43m'\u001b[39;49m\u001b[43m,\u001b[49m\u001b[43m \u001b[49m\u001b[38;5;124;43m'\u001b[39;49m\u001b[38;5;124;43mChatHistoryFilteredListPaginationQuery\u001b[39;49m\u001b[38;5;124;43m'\u001b[39;49m\u001b[43m,\u001b[49m\u001b[43m \u001b[49m\u001b[43m{\u001b[49m\u001b[38;5;124;43m'\u001b[39;49m\u001b[38;5;124;43mcount\u001b[39;49m\u001b[38;5;124;43m'\u001b[39;49m\u001b[43m:\u001b[49m\u001b[43m \u001b[49m\u001b[43minterval\u001b[49m\u001b[43m,\u001b[49m\u001b[43m \u001b[49m\u001b[38;5;124;43m'\u001b[39;49m\u001b[38;5;124;43mhandle\u001b[39;49m\u001b[38;5;124;43m'\u001b[39;49m\u001b[43m:\u001b[49m\u001b[43m \u001b[49m\u001b[43mhandle\u001b[49m\u001b[43m,\u001b[49m\u001b[43m \u001b[49m\u001b[38;5;124;43m'\u001b[39;49m\u001b[38;5;124;43mcursor\u001b[39;49m\u001b[38;5;124;43m'\u001b[39;49m\u001b[43m:\u001b[49m\u001b[43m \u001b[49m\u001b[43mcursor\u001b[49m\u001b[43m}\u001b[49m\u001b[43m)\u001b[49m\n\u001b[1;32m    327\u001b[0m \u001b[38;5;28;01mif\u001b[39;00m response_json[\u001b[38;5;124m'\u001b[39m\u001b[38;5;124mdata\u001b[39m\u001b[38;5;124m'\u001b[39m] \u001b[38;5;241m==\u001b[39m \u001b[38;5;28;01mNone\u001b[39;00m \u001b[38;5;129;01mand\u001b[39;00m response_json[\u001b[38;5;124m\"\u001b[39m\u001b[38;5;124merrors\u001b[39m\u001b[38;5;124m\"\u001b[39m]:\n\u001b[1;32m    328\u001b[0m     \u001b[38;5;28;01mraise\u001b[39;00m \u001b[38;5;167;01mValueError\u001b[39;00m(\n\u001b[1;32m    329\u001b[0m         \u001b[38;5;124mf\u001b[39m\u001b[38;5;124m\"\u001b[39m\u001b[38;5;124mBot \u001b[39m\u001b[38;5;132;01m{\u001b[39;00mbot\u001b[38;5;132;01m}\u001b[39;00m\u001b[38;5;124m not found. Make sure the bot exists before creating new chat.\u001b[39m\u001b[38;5;124m\"\u001b[39m\n\u001b[1;32m    330\u001b[0m     )\n",
      "File \u001b[0;32m~/miniconda3/envs/llmcb/lib/python3.11/site-packages/poe_api_wrapper/api.py:105\u001b[0m, in \u001b[0;36mPoeApi.send_request\u001b[0;34m(self, path, query_name, variables, file_form, knowledge)\u001b[0m\n\u001b[1;32m    103\u001b[0m     headers \u001b[38;5;241m=\u001b[39m {\u001b[38;5;124m'\u001b[39m\u001b[38;5;124mContent-Type\u001b[39m\u001b[38;5;124m'\u001b[39m: payload\u001b[38;5;241m.\u001b[39mcontent_type}\n\u001b[1;32m    104\u001b[0m     payload \u001b[38;5;241m=\u001b[39m payload\u001b[38;5;241m.\u001b[39mto_string()\n\u001b[0;32m--> 105\u001b[0m response \u001b[38;5;241m=\u001b[39m \u001b[38;5;28;43mself\u001b[39;49m\u001b[38;5;241;43m.\u001b[39;49m\u001b[43mclient\u001b[49m\u001b[38;5;241;43m.\u001b[39;49m\u001b[43mpost\u001b[49m\u001b[43m(\u001b[49m\u001b[38;5;124;43mf\u001b[39;49m\u001b[38;5;124;43m'\u001b[39;49m\u001b[38;5;132;43;01m{\u001b[39;49;00m\u001b[38;5;28;43mself\u001b[39;49m\u001b[38;5;241;43m.\u001b[39;49m\u001b[43mBASE_URL\u001b[49m\u001b[38;5;132;43;01m}\u001b[39;49;00m\u001b[38;5;124;43m/poe_api/\u001b[39;49m\u001b[38;5;132;43;01m{\u001b[39;49;00m\u001b[43mpath\u001b[49m\u001b[38;5;132;43;01m}\u001b[39;49;00m\u001b[38;5;124;43m'\u001b[39;49m\u001b[43m,\u001b[49m\u001b[43m \u001b[49m\u001b[43mdata\u001b[49m\u001b[38;5;241;43m=\u001b[39;49m\u001b[43mpayload\u001b[49m\u001b[43m,\u001b[49m\u001b[43m \u001b[49m\u001b[43mheaders\u001b[49m\u001b[38;5;241;43m=\u001b[39;49m\u001b[43mheaders\u001b[49m\u001b[43m,\u001b[49m\u001b[43m \u001b[49m\u001b[43mallow_redirects\u001b[49m\u001b[38;5;241;43m=\u001b[39;49m\u001b[38;5;28;43;01mTrue\u001b[39;49;00m\u001b[43m,\u001b[49m\u001b[43m \u001b[49m\u001b[43mtimeout\u001b[49m\u001b[38;5;241;43m=\u001b[39;49m\u001b[38;5;241;43m30\u001b[39;49m\u001b[43m)\u001b[49m\n\u001b[1;32m    106\u001b[0m \u001b[38;5;28;01mif\u001b[39;00m response\u001b[38;5;241m.\u001b[39mstatus_code \u001b[38;5;241m==\u001b[39m \u001b[38;5;241m200\u001b[39m:\n\u001b[1;32m    107\u001b[0m     \u001b[38;5;28;01mfor\u001b[39;00m file \u001b[38;5;129;01min\u001b[39;00m file_form:\n",
      "File \u001b[0;32m~/miniconda3/envs/llmcb/lib/python3.11/site-packages/requests/sessions.py:637\u001b[0m, in \u001b[0;36mSession.post\u001b[0;34m(self, url, data, json, **kwargs)\u001b[0m\n\u001b[1;32m    626\u001b[0m \u001b[38;5;28;01mdef\u001b[39;00m \u001b[38;5;21mpost\u001b[39m(\u001b[38;5;28mself\u001b[39m, url, data\u001b[38;5;241m=\u001b[39m\u001b[38;5;28;01mNone\u001b[39;00m, json\u001b[38;5;241m=\u001b[39m\u001b[38;5;28;01mNone\u001b[39;00m, \u001b[38;5;241m*\u001b[39m\u001b[38;5;241m*\u001b[39mkwargs):\n\u001b[1;32m    627\u001b[0m \u001b[38;5;250m    \u001b[39m\u001b[38;5;124mr\u001b[39m\u001b[38;5;124;03m\"\"\"Sends a POST request. Returns :class:`Response` object.\u001b[39;00m\n\u001b[1;32m    628\u001b[0m \n\u001b[1;32m    629\u001b[0m \u001b[38;5;124;03m    :param url: URL for the new :class:`Request` object.\u001b[39;00m\n\u001b[0;32m   (...)\u001b[0m\n\u001b[1;32m    634\u001b[0m \u001b[38;5;124;03m    :rtype: requests.Response\u001b[39;00m\n\u001b[1;32m    635\u001b[0m \u001b[38;5;124;03m    \"\"\"\u001b[39;00m\n\u001b[0;32m--> 637\u001b[0m     \u001b[38;5;28;01mreturn\u001b[39;00m \u001b[38;5;28;43mself\u001b[39;49m\u001b[38;5;241;43m.\u001b[39;49m\u001b[43mrequest\u001b[49m\u001b[43m(\u001b[49m\u001b[38;5;124;43m\"\u001b[39;49m\u001b[38;5;124;43mPOST\u001b[39;49m\u001b[38;5;124;43m\"\u001b[39;49m\u001b[43m,\u001b[49m\u001b[43m \u001b[49m\u001b[43murl\u001b[49m\u001b[43m,\u001b[49m\u001b[43m \u001b[49m\u001b[43mdata\u001b[49m\u001b[38;5;241;43m=\u001b[39;49m\u001b[43mdata\u001b[49m\u001b[43m,\u001b[49m\u001b[43m \u001b[49m\u001b[43mjson\u001b[49m\u001b[38;5;241;43m=\u001b[39;49m\u001b[43mjson\u001b[49m\u001b[43m,\u001b[49m\u001b[43m \u001b[49m\u001b[38;5;241;43m*\u001b[39;49m\u001b[38;5;241;43m*\u001b[39;49m\u001b[43mkwargs\u001b[49m\u001b[43m)\u001b[49m\n",
      "File \u001b[0;32m~/miniconda3/envs/llmcb/lib/python3.11/site-packages/cloudscraper/__init__.py:259\u001b[0m, in \u001b[0;36mCloudScraper.request\u001b[0;34m(self, method, url, *args, **kwargs)\u001b[0m\n\u001b[1;32m    246\u001b[0m     (method, url, args, kwargs) \u001b[38;5;241m=\u001b[39m \u001b[38;5;28mself\u001b[39m\u001b[38;5;241m.\u001b[39mrequestPreHook(\n\u001b[1;32m    247\u001b[0m         \u001b[38;5;28mself\u001b[39m,\n\u001b[1;32m    248\u001b[0m         method,\n\u001b[0;32m   (...)\u001b[0m\n\u001b[1;32m    251\u001b[0m         \u001b[38;5;241m*\u001b[39m\u001b[38;5;241m*\u001b[39mkwargs\n\u001b[1;32m    252\u001b[0m     )\n\u001b[1;32m    254\u001b[0m \u001b[38;5;66;03m# ------------------------------------------------------------------------------- #\u001b[39;00m\n\u001b[1;32m    255\u001b[0m \u001b[38;5;66;03m# Make the request via requests.\u001b[39;00m\n\u001b[1;32m    256\u001b[0m \u001b[38;5;66;03m# ------------------------------------------------------------------------------- #\u001b[39;00m\n\u001b[1;32m    258\u001b[0m response \u001b[38;5;241m=\u001b[39m \u001b[38;5;28mself\u001b[39m\u001b[38;5;241m.\u001b[39mdecodeBrotli(\n\u001b[0;32m--> 259\u001b[0m     \u001b[38;5;28;43mself\u001b[39;49m\u001b[38;5;241;43m.\u001b[39;49m\u001b[43mperform_request\u001b[49m\u001b[43m(\u001b[49m\u001b[43mmethod\u001b[49m\u001b[43m,\u001b[49m\u001b[43m \u001b[49m\u001b[43murl\u001b[49m\u001b[43m,\u001b[49m\u001b[43m \u001b[49m\u001b[38;5;241;43m*\u001b[39;49m\u001b[43margs\u001b[49m\u001b[43m,\u001b[49m\u001b[43m \u001b[49m\u001b[38;5;241;43m*\u001b[39;49m\u001b[38;5;241;43m*\u001b[39;49m\u001b[43mkwargs\u001b[49m\u001b[43m)\u001b[49m\n\u001b[1;32m    260\u001b[0m )\n\u001b[1;32m    262\u001b[0m \u001b[38;5;66;03m# ------------------------------------------------------------------------------- #\u001b[39;00m\n\u001b[1;32m    263\u001b[0m \u001b[38;5;66;03m# Debug the request via the Response object.\u001b[39;00m\n\u001b[1;32m    264\u001b[0m \u001b[38;5;66;03m# ------------------------------------------------------------------------------- #\u001b[39;00m\n\u001b[1;32m    266\u001b[0m \u001b[38;5;28;01mif\u001b[39;00m \u001b[38;5;28mself\u001b[39m\u001b[38;5;241m.\u001b[39mdebug:\n",
      "File \u001b[0;32m~/miniconda3/envs/llmcb/lib/python3.11/site-packages/cloudscraper/__init__.py:192\u001b[0m, in \u001b[0;36mCloudScraper.perform_request\u001b[0;34m(self, method, url, *args, **kwargs)\u001b[0m\n\u001b[1;32m    191\u001b[0m \u001b[38;5;28;01mdef\u001b[39;00m \u001b[38;5;21mperform_request\u001b[39m(\u001b[38;5;28mself\u001b[39m, method, url, \u001b[38;5;241m*\u001b[39margs, \u001b[38;5;241m*\u001b[39m\u001b[38;5;241m*\u001b[39mkwargs):\n\u001b[0;32m--> 192\u001b[0m     \u001b[38;5;28;01mreturn\u001b[39;00m \u001b[38;5;28;43msuper\u001b[39;49m\u001b[43m(\u001b[49m\u001b[43mCloudScraper\u001b[49m\u001b[43m,\u001b[49m\u001b[43m \u001b[49m\u001b[38;5;28;43mself\u001b[39;49m\u001b[43m)\u001b[49m\u001b[38;5;241;43m.\u001b[39;49m\u001b[43mrequest\u001b[49m\u001b[43m(\u001b[49m\u001b[43mmethod\u001b[49m\u001b[43m,\u001b[49m\u001b[43m \u001b[49m\u001b[43murl\u001b[49m\u001b[43m,\u001b[49m\u001b[43m \u001b[49m\u001b[38;5;241;43m*\u001b[39;49m\u001b[43margs\u001b[49m\u001b[43m,\u001b[49m\u001b[43m \u001b[49m\u001b[38;5;241;43m*\u001b[39;49m\u001b[38;5;241;43m*\u001b[39;49m\u001b[43mkwargs\u001b[49m\u001b[43m)\u001b[49m\n",
      "File \u001b[0;32m~/miniconda3/envs/llmcb/lib/python3.11/site-packages/requests/sessions.py:589\u001b[0m, in \u001b[0;36mSession.request\u001b[0;34m(self, method, url, params, data, headers, cookies, files, auth, timeout, allow_redirects, proxies, hooks, stream, verify, cert, json)\u001b[0m\n\u001b[1;32m    584\u001b[0m send_kwargs \u001b[38;5;241m=\u001b[39m {\n\u001b[1;32m    585\u001b[0m     \u001b[38;5;124m\"\u001b[39m\u001b[38;5;124mtimeout\u001b[39m\u001b[38;5;124m\"\u001b[39m: timeout,\n\u001b[1;32m    586\u001b[0m     \u001b[38;5;124m\"\u001b[39m\u001b[38;5;124mallow_redirects\u001b[39m\u001b[38;5;124m\"\u001b[39m: allow_redirects,\n\u001b[1;32m    587\u001b[0m }\n\u001b[1;32m    588\u001b[0m send_kwargs\u001b[38;5;241m.\u001b[39mupdate(settings)\n\u001b[0;32m--> 589\u001b[0m resp \u001b[38;5;241m=\u001b[39m \u001b[38;5;28;43mself\u001b[39;49m\u001b[38;5;241;43m.\u001b[39;49m\u001b[43msend\u001b[49m\u001b[43m(\u001b[49m\u001b[43mprep\u001b[49m\u001b[43m,\u001b[49m\u001b[43m \u001b[49m\u001b[38;5;241;43m*\u001b[39;49m\u001b[38;5;241;43m*\u001b[39;49m\u001b[43msend_kwargs\u001b[49m\u001b[43m)\u001b[49m\n\u001b[1;32m    591\u001b[0m \u001b[38;5;28;01mreturn\u001b[39;00m resp\n",
      "File \u001b[0;32m~/miniconda3/envs/llmcb/lib/python3.11/site-packages/requests/sessions.py:703\u001b[0m, in \u001b[0;36mSession.send\u001b[0;34m(self, request, **kwargs)\u001b[0m\n\u001b[1;32m    700\u001b[0m start \u001b[38;5;241m=\u001b[39m preferred_clock()\n\u001b[1;32m    702\u001b[0m \u001b[38;5;66;03m# Send the request\u001b[39;00m\n\u001b[0;32m--> 703\u001b[0m r \u001b[38;5;241m=\u001b[39m \u001b[43madapter\u001b[49m\u001b[38;5;241;43m.\u001b[39;49m\u001b[43msend\u001b[49m\u001b[43m(\u001b[49m\u001b[43mrequest\u001b[49m\u001b[43m,\u001b[49m\u001b[43m \u001b[49m\u001b[38;5;241;43m*\u001b[39;49m\u001b[38;5;241;43m*\u001b[39;49m\u001b[43mkwargs\u001b[49m\u001b[43m)\u001b[49m\n\u001b[1;32m    705\u001b[0m \u001b[38;5;66;03m# Total elapsed time of the request (approximately)\u001b[39;00m\n\u001b[1;32m    706\u001b[0m elapsed \u001b[38;5;241m=\u001b[39m preferred_clock() \u001b[38;5;241m-\u001b[39m start\n",
      "File \u001b[0;32m~/miniconda3/envs/llmcb/lib/python3.11/site-packages/requests/adapters.py:486\u001b[0m, in \u001b[0;36mHTTPAdapter.send\u001b[0;34m(self, request, stream, timeout, verify, cert, proxies)\u001b[0m\n\u001b[1;32m    483\u001b[0m     timeout \u001b[38;5;241m=\u001b[39m TimeoutSauce(connect\u001b[38;5;241m=\u001b[39mtimeout, read\u001b[38;5;241m=\u001b[39mtimeout)\n\u001b[1;32m    485\u001b[0m \u001b[38;5;28;01mtry\u001b[39;00m:\n\u001b[0;32m--> 486\u001b[0m     resp \u001b[38;5;241m=\u001b[39m \u001b[43mconn\u001b[49m\u001b[38;5;241;43m.\u001b[39;49m\u001b[43murlopen\u001b[49m\u001b[43m(\u001b[49m\n\u001b[1;32m    487\u001b[0m \u001b[43m        \u001b[49m\u001b[43mmethod\u001b[49m\u001b[38;5;241;43m=\u001b[39;49m\u001b[43mrequest\u001b[49m\u001b[38;5;241;43m.\u001b[39;49m\u001b[43mmethod\u001b[49m\u001b[43m,\u001b[49m\n\u001b[1;32m    488\u001b[0m \u001b[43m        \u001b[49m\u001b[43murl\u001b[49m\u001b[38;5;241;43m=\u001b[39;49m\u001b[43murl\u001b[49m\u001b[43m,\u001b[49m\n\u001b[1;32m    489\u001b[0m \u001b[43m        \u001b[49m\u001b[43mbody\u001b[49m\u001b[38;5;241;43m=\u001b[39;49m\u001b[43mrequest\u001b[49m\u001b[38;5;241;43m.\u001b[39;49m\u001b[43mbody\u001b[49m\u001b[43m,\u001b[49m\n\u001b[1;32m    490\u001b[0m \u001b[43m        \u001b[49m\u001b[43mheaders\u001b[49m\u001b[38;5;241;43m=\u001b[39;49m\u001b[43mrequest\u001b[49m\u001b[38;5;241;43m.\u001b[39;49m\u001b[43mheaders\u001b[49m\u001b[43m,\u001b[49m\n\u001b[1;32m    491\u001b[0m \u001b[43m        \u001b[49m\u001b[43mredirect\u001b[49m\u001b[38;5;241;43m=\u001b[39;49m\u001b[38;5;28;43;01mFalse\u001b[39;49;00m\u001b[43m,\u001b[49m\n\u001b[1;32m    492\u001b[0m \u001b[43m        \u001b[49m\u001b[43massert_same_host\u001b[49m\u001b[38;5;241;43m=\u001b[39;49m\u001b[38;5;28;43;01mFalse\u001b[39;49;00m\u001b[43m,\u001b[49m\n\u001b[1;32m    493\u001b[0m \u001b[43m        \u001b[49m\u001b[43mpreload_content\u001b[49m\u001b[38;5;241;43m=\u001b[39;49m\u001b[38;5;28;43;01mFalse\u001b[39;49;00m\u001b[43m,\u001b[49m\n\u001b[1;32m    494\u001b[0m \u001b[43m        \u001b[49m\u001b[43mdecode_content\u001b[49m\u001b[38;5;241;43m=\u001b[39;49m\u001b[38;5;28;43;01mFalse\u001b[39;49;00m\u001b[43m,\u001b[49m\n\u001b[1;32m    495\u001b[0m \u001b[43m        \u001b[49m\u001b[43mretries\u001b[49m\u001b[38;5;241;43m=\u001b[39;49m\u001b[38;5;28;43mself\u001b[39;49m\u001b[38;5;241;43m.\u001b[39;49m\u001b[43mmax_retries\u001b[49m\u001b[43m,\u001b[49m\n\u001b[1;32m    496\u001b[0m \u001b[43m        \u001b[49m\u001b[43mtimeout\u001b[49m\u001b[38;5;241;43m=\u001b[39;49m\u001b[43mtimeout\u001b[49m\u001b[43m,\u001b[49m\n\u001b[1;32m    497\u001b[0m \u001b[43m        \u001b[49m\u001b[43mchunked\u001b[49m\u001b[38;5;241;43m=\u001b[39;49m\u001b[43mchunked\u001b[49m\u001b[43m,\u001b[49m\n\u001b[1;32m    498\u001b[0m \u001b[43m    \u001b[49m\u001b[43m)\u001b[49m\n\u001b[1;32m    500\u001b[0m \u001b[38;5;28;01mexcept\u001b[39;00m (ProtocolError, \u001b[38;5;167;01mOSError\u001b[39;00m) \u001b[38;5;28;01mas\u001b[39;00m err:\n\u001b[1;32m    501\u001b[0m     \u001b[38;5;28;01mraise\u001b[39;00m \u001b[38;5;167;01mConnectionError\u001b[39;00m(err, request\u001b[38;5;241m=\u001b[39mrequest)\n",
      "File \u001b[0;32m~/miniconda3/envs/llmcb/lib/python3.11/site-packages/urllib3/connectionpool.py:793\u001b[0m, in \u001b[0;36mHTTPConnectionPool.urlopen\u001b[0;34m(self, method, url, body, headers, retries, redirect, assert_same_host, timeout, pool_timeout, release_conn, chunked, body_pos, preload_content, decode_content, **response_kw)\u001b[0m\n\u001b[1;32m    790\u001b[0m response_conn \u001b[38;5;241m=\u001b[39m conn \u001b[38;5;28;01mif\u001b[39;00m \u001b[38;5;129;01mnot\u001b[39;00m release_conn \u001b[38;5;28;01melse\u001b[39;00m \u001b[38;5;28;01mNone\u001b[39;00m\n\u001b[1;32m    792\u001b[0m \u001b[38;5;66;03m# Make the request on the HTTPConnection object\u001b[39;00m\n\u001b[0;32m--> 793\u001b[0m response \u001b[38;5;241m=\u001b[39m \u001b[38;5;28;43mself\u001b[39;49m\u001b[38;5;241;43m.\u001b[39;49m\u001b[43m_make_request\u001b[49m\u001b[43m(\u001b[49m\n\u001b[1;32m    794\u001b[0m \u001b[43m    \u001b[49m\u001b[43mconn\u001b[49m\u001b[43m,\u001b[49m\n\u001b[1;32m    795\u001b[0m \u001b[43m    \u001b[49m\u001b[43mmethod\u001b[49m\u001b[43m,\u001b[49m\n\u001b[1;32m    796\u001b[0m \u001b[43m    \u001b[49m\u001b[43murl\u001b[49m\u001b[43m,\u001b[49m\n\u001b[1;32m    797\u001b[0m \u001b[43m    \u001b[49m\u001b[43mtimeout\u001b[49m\u001b[38;5;241;43m=\u001b[39;49m\u001b[43mtimeout_obj\u001b[49m\u001b[43m,\u001b[49m\n\u001b[1;32m    798\u001b[0m \u001b[43m    \u001b[49m\u001b[43mbody\u001b[49m\u001b[38;5;241;43m=\u001b[39;49m\u001b[43mbody\u001b[49m\u001b[43m,\u001b[49m\n\u001b[1;32m    799\u001b[0m \u001b[43m    \u001b[49m\u001b[43mheaders\u001b[49m\u001b[38;5;241;43m=\u001b[39;49m\u001b[43mheaders\u001b[49m\u001b[43m,\u001b[49m\n\u001b[1;32m    800\u001b[0m \u001b[43m    \u001b[49m\u001b[43mchunked\u001b[49m\u001b[38;5;241;43m=\u001b[39;49m\u001b[43mchunked\u001b[49m\u001b[43m,\u001b[49m\n\u001b[1;32m    801\u001b[0m \u001b[43m    \u001b[49m\u001b[43mretries\u001b[49m\u001b[38;5;241;43m=\u001b[39;49m\u001b[43mretries\u001b[49m\u001b[43m,\u001b[49m\n\u001b[1;32m    802\u001b[0m \u001b[43m    \u001b[49m\u001b[43mresponse_conn\u001b[49m\u001b[38;5;241;43m=\u001b[39;49m\u001b[43mresponse_conn\u001b[49m\u001b[43m,\u001b[49m\n\u001b[1;32m    803\u001b[0m \u001b[43m    \u001b[49m\u001b[43mpreload_content\u001b[49m\u001b[38;5;241;43m=\u001b[39;49m\u001b[43mpreload_content\u001b[49m\u001b[43m,\u001b[49m\n\u001b[1;32m    804\u001b[0m \u001b[43m    \u001b[49m\u001b[43mdecode_content\u001b[49m\u001b[38;5;241;43m=\u001b[39;49m\u001b[43mdecode_content\u001b[49m\u001b[43m,\u001b[49m\n\u001b[1;32m    805\u001b[0m \u001b[43m    \u001b[49m\u001b[38;5;241;43m*\u001b[39;49m\u001b[38;5;241;43m*\u001b[39;49m\u001b[43mresponse_kw\u001b[49m\u001b[43m,\u001b[49m\n\u001b[1;32m    806\u001b[0m \u001b[43m\u001b[49m\u001b[43m)\u001b[49m\n\u001b[1;32m    808\u001b[0m \u001b[38;5;66;03m# Everything went great!\u001b[39;00m\n\u001b[1;32m    809\u001b[0m clean_exit \u001b[38;5;241m=\u001b[39m \u001b[38;5;28;01mTrue\u001b[39;00m\n",
      "File \u001b[0;32m~/miniconda3/envs/llmcb/lib/python3.11/site-packages/urllib3/connectionpool.py:537\u001b[0m, in \u001b[0;36mHTTPConnectionPool._make_request\u001b[0;34m(self, conn, method, url, body, headers, retries, timeout, chunked, response_conn, preload_content, decode_content, enforce_content_length)\u001b[0m\n\u001b[1;32m    535\u001b[0m \u001b[38;5;66;03m# Receive the response from the server\u001b[39;00m\n\u001b[1;32m    536\u001b[0m \u001b[38;5;28;01mtry\u001b[39;00m:\n\u001b[0;32m--> 537\u001b[0m     response \u001b[38;5;241m=\u001b[39m \u001b[43mconn\u001b[49m\u001b[38;5;241;43m.\u001b[39;49m\u001b[43mgetresponse\u001b[49m\u001b[43m(\u001b[49m\u001b[43m)\u001b[49m\n\u001b[1;32m    538\u001b[0m \u001b[38;5;28;01mexcept\u001b[39;00m (BaseSSLError, \u001b[38;5;167;01mOSError\u001b[39;00m) \u001b[38;5;28;01mas\u001b[39;00m e:\n\u001b[1;32m    539\u001b[0m     \u001b[38;5;28mself\u001b[39m\u001b[38;5;241m.\u001b[39m_raise_timeout(err\u001b[38;5;241m=\u001b[39me, url\u001b[38;5;241m=\u001b[39murl, timeout_value\u001b[38;5;241m=\u001b[39mread_timeout)\n",
      "File \u001b[0;32m~/miniconda3/envs/llmcb/lib/python3.11/site-packages/urllib3/connection.py:466\u001b[0m, in \u001b[0;36mHTTPConnection.getresponse\u001b[0;34m(self)\u001b[0m\n\u001b[1;32m    463\u001b[0m \u001b[38;5;28;01mfrom\u001b[39;00m \u001b[38;5;21;01m.\u001b[39;00m\u001b[38;5;21;01mresponse\u001b[39;00m \u001b[38;5;28;01mimport\u001b[39;00m HTTPResponse\n\u001b[1;32m    465\u001b[0m \u001b[38;5;66;03m# Get the response from http.client.HTTPConnection\u001b[39;00m\n\u001b[0;32m--> 466\u001b[0m httplib_response \u001b[38;5;241m=\u001b[39m \u001b[38;5;28;43msuper\u001b[39;49m\u001b[43m(\u001b[49m\u001b[43m)\u001b[49m\u001b[38;5;241;43m.\u001b[39;49m\u001b[43mgetresponse\u001b[49m\u001b[43m(\u001b[49m\u001b[43m)\u001b[49m\n\u001b[1;32m    468\u001b[0m \u001b[38;5;28;01mtry\u001b[39;00m:\n\u001b[1;32m    469\u001b[0m     assert_header_parsing(httplib_response\u001b[38;5;241m.\u001b[39mmsg)\n",
      "File \u001b[0;32m~/miniconda3/envs/llmcb/lib/python3.11/http/client.py:1390\u001b[0m, in \u001b[0;36mHTTPConnection.getresponse\u001b[0;34m(self)\u001b[0m\n\u001b[1;32m   1388\u001b[0m \u001b[38;5;28;01mtry\u001b[39;00m:\n\u001b[1;32m   1389\u001b[0m     \u001b[38;5;28;01mtry\u001b[39;00m:\n\u001b[0;32m-> 1390\u001b[0m         \u001b[43mresponse\u001b[49m\u001b[38;5;241;43m.\u001b[39;49m\u001b[43mbegin\u001b[49m\u001b[43m(\u001b[49m\u001b[43m)\u001b[49m\n\u001b[1;32m   1391\u001b[0m     \u001b[38;5;28;01mexcept\u001b[39;00m \u001b[38;5;167;01mConnectionError\u001b[39;00m:\n\u001b[1;32m   1392\u001b[0m         \u001b[38;5;28mself\u001b[39m\u001b[38;5;241m.\u001b[39mclose()\n",
      "File \u001b[0;32m~/miniconda3/envs/llmcb/lib/python3.11/http/client.py:325\u001b[0m, in \u001b[0;36mHTTPResponse.begin\u001b[0;34m(self)\u001b[0m\n\u001b[1;32m    323\u001b[0m \u001b[38;5;66;03m# read until we get a non-100 response\u001b[39;00m\n\u001b[1;32m    324\u001b[0m \u001b[38;5;28;01mwhile\u001b[39;00m \u001b[38;5;28;01mTrue\u001b[39;00m:\n\u001b[0;32m--> 325\u001b[0m     version, status, reason \u001b[38;5;241m=\u001b[39m \u001b[38;5;28;43mself\u001b[39;49m\u001b[38;5;241;43m.\u001b[39;49m\u001b[43m_read_status\u001b[49m\u001b[43m(\u001b[49m\u001b[43m)\u001b[49m\n\u001b[1;32m    326\u001b[0m     \u001b[38;5;28;01mif\u001b[39;00m status \u001b[38;5;241m!=\u001b[39m CONTINUE:\n\u001b[1;32m    327\u001b[0m         \u001b[38;5;28;01mbreak\u001b[39;00m\n",
      "File \u001b[0;32m~/miniconda3/envs/llmcb/lib/python3.11/http/client.py:286\u001b[0m, in \u001b[0;36mHTTPResponse._read_status\u001b[0;34m(self)\u001b[0m\n\u001b[1;32m    285\u001b[0m \u001b[38;5;28;01mdef\u001b[39;00m \u001b[38;5;21m_read_status\u001b[39m(\u001b[38;5;28mself\u001b[39m):\n\u001b[0;32m--> 286\u001b[0m     line \u001b[38;5;241m=\u001b[39m \u001b[38;5;28mstr\u001b[39m(\u001b[38;5;28mself\u001b[39m\u001b[38;5;241m.\u001b[39mfp\u001b[38;5;241m.\u001b[39mreadline(_MAXLINE \u001b[38;5;241m+\u001b[39m \u001b[38;5;241m1\u001b[39m), \u001b[38;5;124m\"\u001b[39m\u001b[38;5;124miso-8859-1\u001b[39m\u001b[38;5;124m\"\u001b[39m)\n\u001b[1;32m    287\u001b[0m     \u001b[38;5;28;01mif\u001b[39;00m \u001b[38;5;28mlen\u001b[39m(line) \u001b[38;5;241m>\u001b[39m _MAXLINE:\n\u001b[1;32m    288\u001b[0m         \u001b[38;5;28;01mraise\u001b[39;00m LineTooLong(\u001b[38;5;124m\"\u001b[39m\u001b[38;5;124mstatus line\u001b[39m\u001b[38;5;124m\"\u001b[39m)\n",
      "File \u001b[0;32m~/miniconda3/envs/llmcb/lib/python3.11/socket.py:706\u001b[0m, in \u001b[0;36mSocketIO.readinto\u001b[0;34m(self, b)\u001b[0m\n\u001b[1;32m    704\u001b[0m \u001b[38;5;28;01mwhile\u001b[39;00m \u001b[38;5;28;01mTrue\u001b[39;00m:\n\u001b[1;32m    705\u001b[0m     \u001b[38;5;28;01mtry\u001b[39;00m:\n\u001b[0;32m--> 706\u001b[0m         \u001b[38;5;28;01mreturn\u001b[39;00m \u001b[38;5;28;43mself\u001b[39;49m\u001b[38;5;241;43m.\u001b[39;49m\u001b[43m_sock\u001b[49m\u001b[38;5;241;43m.\u001b[39;49m\u001b[43mrecv_into\u001b[49m\u001b[43m(\u001b[49m\u001b[43mb\u001b[49m\u001b[43m)\u001b[49m\n\u001b[1;32m    707\u001b[0m     \u001b[38;5;28;01mexcept\u001b[39;00m timeout:\n\u001b[1;32m    708\u001b[0m         \u001b[38;5;28mself\u001b[39m\u001b[38;5;241m.\u001b[39m_timeout_occurred \u001b[38;5;241m=\u001b[39m \u001b[38;5;28;01mTrue\u001b[39;00m\n",
      "File \u001b[0;32m~/miniconda3/envs/llmcb/lib/python3.11/ssl.py:1314\u001b[0m, in \u001b[0;36mSSLSocket.recv_into\u001b[0;34m(self, buffer, nbytes, flags)\u001b[0m\n\u001b[1;32m   1310\u001b[0m     \u001b[38;5;28;01mif\u001b[39;00m flags \u001b[38;5;241m!=\u001b[39m \u001b[38;5;241m0\u001b[39m:\n\u001b[1;32m   1311\u001b[0m         \u001b[38;5;28;01mraise\u001b[39;00m \u001b[38;5;167;01mValueError\u001b[39;00m(\n\u001b[1;32m   1312\u001b[0m           \u001b[38;5;124m\"\u001b[39m\u001b[38;5;124mnon-zero flags not allowed in calls to recv_into() on \u001b[39m\u001b[38;5;132;01m%s\u001b[39;00m\u001b[38;5;124m\"\u001b[39m \u001b[38;5;241m%\u001b[39m\n\u001b[1;32m   1313\u001b[0m           \u001b[38;5;28mself\u001b[39m\u001b[38;5;241m.\u001b[39m\u001b[38;5;18m__class__\u001b[39m)\n\u001b[0;32m-> 1314\u001b[0m     \u001b[38;5;28;01mreturn\u001b[39;00m \u001b[38;5;28;43mself\u001b[39;49m\u001b[38;5;241;43m.\u001b[39;49m\u001b[43mread\u001b[49m\u001b[43m(\u001b[49m\u001b[43mnbytes\u001b[49m\u001b[43m,\u001b[49m\u001b[43m \u001b[49m\u001b[43mbuffer\u001b[49m\u001b[43m)\u001b[49m\n\u001b[1;32m   1315\u001b[0m \u001b[38;5;28;01melse\u001b[39;00m:\n\u001b[1;32m   1316\u001b[0m     \u001b[38;5;28;01mreturn\u001b[39;00m \u001b[38;5;28msuper\u001b[39m()\u001b[38;5;241m.\u001b[39mrecv_into(buffer, nbytes, flags)\n",
      "File \u001b[0;32m~/miniconda3/envs/llmcb/lib/python3.11/ssl.py:1166\u001b[0m, in \u001b[0;36mSSLSocket.read\u001b[0;34m(self, len, buffer)\u001b[0m\n\u001b[1;32m   1164\u001b[0m \u001b[38;5;28;01mtry\u001b[39;00m:\n\u001b[1;32m   1165\u001b[0m     \u001b[38;5;28;01mif\u001b[39;00m buffer \u001b[38;5;129;01mis\u001b[39;00m \u001b[38;5;129;01mnot\u001b[39;00m \u001b[38;5;28;01mNone\u001b[39;00m:\n\u001b[0;32m-> 1166\u001b[0m         \u001b[38;5;28;01mreturn\u001b[39;00m \u001b[38;5;28;43mself\u001b[39;49m\u001b[38;5;241;43m.\u001b[39;49m\u001b[43m_sslobj\u001b[49m\u001b[38;5;241;43m.\u001b[39;49m\u001b[43mread\u001b[49m\u001b[43m(\u001b[49m\u001b[38;5;28;43mlen\u001b[39;49m\u001b[43m,\u001b[49m\u001b[43m \u001b[49m\u001b[43mbuffer\u001b[49m\u001b[43m)\u001b[49m\n\u001b[1;32m   1167\u001b[0m     \u001b[38;5;28;01melse\u001b[39;00m:\n\u001b[1;32m   1168\u001b[0m         \u001b[38;5;28;01mreturn\u001b[39;00m \u001b[38;5;28mself\u001b[39m\u001b[38;5;241m.\u001b[39m_sslobj\u001b[38;5;241m.\u001b[39mread(\u001b[38;5;28mlen\u001b[39m)\n",
      "\u001b[0;31mKeyboardInterrupt\u001b[0m: "
     ]
    }
   ],
   "source": [
    "# experiment\n",
    "\n",
    "# load dataset\n",
    "while True:\n",
    "    try:\n",
    "\n",
    "        with open(dataset_path, \"r\") as f:\n",
    "            dataset = json.load(f)\n",
    "\n",
    "\n",
    "\n",
    "        os.makedirs(\n",
    "            osp.join(\n",
    "                configs[\"save_path\"], \"responds\", configs[\"data\"][\"dataset_name\"], config_name\n",
    "            ),\n",
    "            exist_ok=True,\n",
    "        )\n",
    "\n",
    "        for bot_id, bot in tqdm.tqdm(\n",
    "            enumerate(configs[\"bot_list\"]), total=len(configs[\"bot_list\"]), position=0\n",
    "        ):\n",
    "            answers = copy.deepcopy(dataset)\n",
    "\n",
    "            bar2 = tqdm.tqdm(\n",
    "                enumerate(dataset[\"tasks\"]), total=len(dataset[\"tasks\"]), position=1\n",
    "            )\n",
    "\n",
    "            for task_id, task in bar2:\n",
    "\n",
    "                task_text = task[\"text\"]\n",
    "\n",
    "                task_text = (\n",
    "                    configs[\"text_modifier\"][\"prefixes\"]\n",
    "                    + task_text\n",
    "                    + configs[\"text_modifier\"][\"suffixes\"]\n",
    "                )\n",
    "\n",
    "                answers[\"tasks\"][task_id][\"prefixes\"] = configs[\"text_modifier\"][\"prefixes\"]\n",
    "                answers[\"tasks\"][task_id][\"suffixes\"] = configs[\"text_modifier\"][\"suffixes\"]\n",
    "                answers[\"tasks\"][task_id][\"answers\"] = []\n",
    "\n",
    "                for i in range(configs[\"exp_start\"], configs[\"exp_repeats\"]):\n",
    "\n",
    "                    ans = cacher.send_message(\n",
    "                        client=client,\n",
    "                        bot=bot,\n",
    "                        message=task_text,\n",
    "                        use_cache=True,\n",
    "                        add_to_cache=True,\n",
    "                        trial_id=str(i),\n",
    "                    )\n",
    "\n",
    "                    if cacher.last_ret is not None:\n",
    "                        tot_price += cacher.last_ret[\"msgPrice\"]\n",
    "\n",
    "                    bar2.set_description(\n",
    "                        f\"Task: {task['id']},{task['effect_name']}, \"\n",
    "                        f\"Cache hit: {cacher.cache_hit}/{cacher.call_count}, \"\n",
    "                        f\"Total price: {tot_price}, \",\n",
    "                    )\n",
    "\n",
    "                    answers[\"tasks\"][task_id][\"answers\"].append(ans)\n",
    "\n",
    "            answers[\"bot\"] = bot\n",
    "\n",
    "            with open(\n",
    "                osp.join(\n",
    "                    configs[\"save_path\"],\n",
    "                    \"responds\",\n",
    "                    configs[\"data\"][\"dataset_name\"],\n",
    "                    config_name,\n",
    "                    configs[\"data\"][\"dataset_name\"] + \"_\" + config_name + \"_\" + bot + \".json\",\n",
    "                ),\n",
    "                \"w\",\n",
    "            ) as f:\n",
    "                json.dump(answers, f, indent=4)\n",
    "\n",
    "        save_file = osp.join(\n",
    "            configs[\"save_path\"],\n",
    "            \"responds\",\n",
    "            configs[\"data\"][\"dataset_name\"],\n",
    "            config_name,\n",
    "            \"meta.json\",\n",
    "        )\n",
    "\n",
    "\n",
    "        with open(\n",
    "            osp.join(\n",
    "                configs[\"save_path\"],\n",
    "                \"responds\",\n",
    "                configs[\"data\"][\"dataset_name\"],\n",
    "                config_name,\n",
    "                \"meta.json\",\n",
    "            ),\n",
    "            \"w\",\n",
    "        ) as f:\n",
    "            json.dump(\n",
    "                {\n",
    "                    \"request_times\": cacher.call_count,\n",
    "                    \"cache_hit\": cacher.cache_hit,\n",
    "                    \"hit_rate\": cacher.cache_hit / cacher.call_count,\n",
    "                    \"tot_price\": tot_price,\n",
    "                },\n",
    "                f,\n",
    "                indent=4,\n",
    "            )\n",
    "\n",
    "        break\n",
    "\n",
    "    except Exception as e:\n",
    "        print(e)\n",
    "        print(\"Error, retrying...\")\n",
    "        continue\n"
   ]
  }
 ],
 "metadata": {
  "kernelspec": {
   "display_name": "llmcb",
   "language": "python",
   "name": "python3"
  },
  "language_info": {
   "codemirror_mode": {
    "name": "ipython",
    "version": 3
   },
   "file_extension": ".py",
   "mimetype": "text/x-python",
   "name": "python",
   "nbconvert_exporter": "python",
   "pygments_lexer": "ipython3",
   "version": "3.11.8"
  }
 },
 "nbformat": 4,
 "nbformat_minor": 2
}
