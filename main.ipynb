{
 "cells": [
  {
   "cell_type": "code",
   "execution_count": 1,
   "metadata": {},
   "outputs": [],
   "source": [
    "# imports\n",
    "import os\n",
    "import os.path as osp\n",
    "import sys\n",
    "import json\n",
    "import tqdm\n",
    "import yaml\n",
    "import copy\n",
    "\n",
    "from poe_api_wrapper import PoeApi\n",
    "from cache import Cacher\n"
   ]
  },
  {
   "cell_type": "code",
   "execution_count": 2,
   "metadata": {},
   "outputs": [
    {
     "data": {
      "text/plain": [
       "{'b': 'NxeuhIbAINHu0OM49hkvWw%3D%3D',\n",
       " 'lat': '4vIeYDWHpqB7nlwlXGAkQ8u5nAKFG98FjueVCPPDlw%3D%3D'}"
      ]
     },
     "execution_count": 2,
     "metadata": {},
     "output_type": "execute_result"
    }
   ],
   "source": [
    "# configs\n",
    "os.environ[\"http_proxy\"] = \"http://172.22.160.1:7880\"\n",
    "os.environ[\"https_proxy\"] = \"http://172.22.160.1:7880\"\n",
    "\n",
    "api_config_file = \"api_configs.json\"\n",
    "with open(api_config_file, \"r\") as f:\n",
    "    api_configs = json.load(f)\n",
    "\n",
    "tokens = api_configs[\"poe_tokens\"]\n",
    "tokens"
   ]
  },
  {
   "cell_type": "code",
   "execution_count": 3,
   "metadata": {},
   "outputs": [],
   "source": [
    "# experiment settings\n",
    "\n",
    "config_path = \"results/configs\"\n",
    "config_name = \"test\"\n",
    "config_path = osp.join(config_path, config_name + \".yaml\")\n",
    "\n",
    "configs = yaml.load(open(config_path, \"r\"), Loader=yaml.FullLoader)\n",
    "\n",
    "dataset_path = osp.join(\n",
    "    configs[\"data\"][\"data_path\"], configs[\"data\"][\"dataset_name\"] + \".json\"\n",
    ")\n",
    "\n",
    "if configs[\"use_cache\"]:\n",
    "    cache_path = osp.join(\n",
    "        configs[\"save_path\"], \"cache\", \"cache_\" + configs[\"cache_name\"] + \".json\"\n",
    "    )\n",
    "else:\n",
    "    cache_path = osp.join(configs[\"save_path\"], \"cache\", \"cache_default\" + \".json\")"
   ]
  },
  {
   "cell_type": "code",
   "execution_count": 4,
   "metadata": {},
   "outputs": [
    {
     "name": "stdout",
     "output_type": "stream",
     "text": [
      "APIs initialized, using cache at results/cache/cache_default.json\n"
     ]
    }
   ],
   "source": [
    "# initialize apis\n",
    "\n",
    "client = PoeApi(tokens)\n",
    "cacher = Cacher(\n",
    "    cache_path,\n",
    "    cache_id=\"default\",\n",
    "    cache_type=\"json\",\n",
    "    write_cache=True,\n",
    "    write_interval=1,\n",
    ")\n",
    "\n",
    "print(\"APIs initialized, using cache at\", cache_path)"
   ]
  },
  {
   "cell_type": "code",
   "execution_count": 5,
   "metadata": {},
   "outputs": [
    {
     "name": "stderr",
     "output_type": "stream",
     "text": [
      "Task: 16,Pseudocertainty effect, Cache hit: 34/34, Total price: 0, : 100%|██████████| 17/17 [00:00<00:00, 310.77it/s]\n",
      "100%|██████████| 1/1 [00:00<00:00, 17.33it/s]\n"
     ]
    }
   ],
   "source": [
    "# experiment\n",
    "\n",
    "# load dataset\n",
    "with open(dataset_path, \"r\") as f:\n",
    "    dataset = json.load(f)\n",
    "\n",
    "tot_price = 0\n",
    "\n",
    "os.makedirs(\n",
    "    osp.join(\n",
    "        configs[\"save_path\"], \"responds\", configs[\"data\"][\"dataset_name\"], config_name\n",
    "    ),\n",
    "    exist_ok=True,\n",
    ")\n",
    "\n",
    "for bot_id, bot in tqdm.tqdm(\n",
    "    enumerate(configs[\"bot_list\"]), total=len(configs[\"bot_list\"]), position=0\n",
    "):\n",
    "    answers = copy.deepcopy(dataset)\n",
    "\n",
    "    bar2 = tqdm.tqdm(enumerate(dataset[\"tasks\"]), total=len(dataset[\"tasks\"]), position=1)\n",
    "\n",
    "    for task_id, task in bar2:\n",
    "\n",
    "        task_text = task[\"text\"]\n",
    "\n",
    "        task_text = (\n",
    "            configs[\"text_modifier\"][\"prefixes\"]\n",
    "            + task_text\n",
    "            + configs[\"text_modifier\"][\"suffixes\"]\n",
    "        )\n",
    "\n",
    "        answers[\"tasks\"][task_id][\"prefixes\"] = configs[\"text_modifier\"][\"prefixes\"]\n",
    "        answers[\"tasks\"][task_id][\"suffixes\"] = configs[\"text_modifier\"][\"suffixes\"]\n",
    "        answers[\"tasks\"][task_id][\"answers\"] = []\n",
    "\n",
    "        for i in range(configs[\"exp_start\"], configs[\"exp_repeats\"]):\n",
    "\n",
    "            ans = cacher.send_message(\n",
    "                client=client,\n",
    "                bot=bot,\n",
    "                message=task_text,\n",
    "                use_cache=True,\n",
    "                add_to_cache=True,\n",
    "                trial_id=str(i),\n",
    "            )\n",
    "\n",
    "            if cacher.last_ret is not None:\n",
    "                tot_price += cacher.last_ret[\"msgPrice\"]\n",
    "\n",
    "            bar2.set_description(\n",
    "                f\"Task: {task['id']},{task['effect_name']}, \"\n",
    "                f\"Cache hit: {cacher.cache_hit}/{cacher.call_count}, \"\n",
    "                f\"Total price: {tot_price}, \",\n",
    "            )\n",
    "\n",
    "            answers[\"tasks\"][task_id][\"answers\"].append(ans)\n",
    "\n",
    "    answers[\"bot\"] = bot\n",
    "\n",
    "    with open(\n",
    "        osp.join(\n",
    "            configs[\"save_path\"],\n",
    "            \"responds\",\n",
    "            configs[\"data\"][\"dataset_name\"],\n",
    "            config_name,\n",
    "            configs[\"data\"][\"dataset_name\"] + \"_\" + config_name + \"_\" + bot + \".json\",\n",
    "        ),\n",
    "        \"w\",\n",
    "    ) as f:\n",
    "        json.dump(answers, f, indent=4)\n",
    "\n",
    "with open(\n",
    "    osp.join(\n",
    "        configs[\"save_path\"],\n",
    "        \"responds\",\n",
    "        configs[\"data\"][\"dataset_name\"],\n",
    "        config_name,\n",
    "        \"meta.json\",\n",
    "    ),\n",
    "    \"w\",\n",
    ") as f:\n",
    "    json.dump(\n",
    "        {\n",
    "            \"request_times\": cacher.call_count,\n",
    "            \"cache_hit\": cacher.cache_hit,\n",
    "            \"hit_rate\": cacher.cache_hit / cacher.call_count,\n",
    "            \"tot_price\": tot_price,\n",
    "        },\n",
    "        f,\n",
    "        indent=4,\n",
    "    )"
   ]
  }
 ],
 "metadata": {
  "kernelspec": {
   "display_name": "llmcb",
   "language": "python",
   "name": "python3"
  },
  "language_info": {
   "codemirror_mode": {
    "name": "ipython",
    "version": 3
   },
   "file_extension": ".py",
   "mimetype": "text/x-python",
   "name": "python",
   "nbconvert_exporter": "python",
   "pygments_lexer": "ipython3",
   "version": "3.11.8"
  }
 },
 "nbformat": 4,
 "nbformat_minor": 2
}
