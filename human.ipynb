{
 "cells": [
  {
   "cell_type": "code",
   "execution_count": 1,
   "metadata": {},
   "outputs": [
    {
     "data": {
      "text/plain": [
       "array([[200, 60, 12, ..., 22, 17, 44],\n",
       "       [1000, 30, 247, ..., 100, 500, 120],\n",
       "       [1, 0, 1, ..., 0, 1, 1],\n",
       "       ...,\n",
       "       [None, None, None, ..., None, None, None],\n",
       "       [None, None, None, ..., None, None, None],\n",
       "       [None, None, None, ..., None, None, None]], dtype=object)"
      ]
     },
     "execution_count": 1,
     "metadata": {},
     "output_type": "execute_result"
    }
   ],
   "source": [
    "import numpy as np\n",
    "import openpyxl\n",
    "import json\n",
    "\n",
    "from analysis.metrics import compute_clip_cohen_d, compute_linear_l\n",
    "\n",
    "source_file =\"/mnt/d/QYQC/PKU/GradPaper/experiments/results.xlsx\"\n",
    "\n",
    "wb = openpyxl.load_workbook(source_file)\n",
    "# open \"human\" sub-sheet\n",
    "ws = wb[\"human\"]\n",
    "data = []\n",
    "for row in ws.iter_rows(\n",
    "    min_row=2, max_row=ws.max_row, min_col=8, max_col=ws.max_column\n",
    "):\n",
    "    data.append([cell.value for cell in row])\n",
    "\n",
    "data=np.array(data)[:,:40]\n",
    "data"
   ]
  },
  {
   "cell_type": "code",
   "execution_count": 2,
   "metadata": {},
   "outputs": [
    {
     "name": "stdout",
     "output_type": "stream",
     "text": [
      "[0.9946268563170335, 0.9, 1.1, 1.0, 0.42118727507167525, 0.3969881820729002, 0.8015000497740514, 0.8412482325527576, 0.55]\n"
     ]
    }
   ],
   "source": [
    "with open(\"analysis/stat_template.json\", \"r\") as f:\n",
    "    results = json.load(f)\n",
    "\n",
    "results[0][\"data\"][\"A\"] = data[1]  # task1\n",
    "results[0][\"data\"][\"B\"] = data[0]  # task1\n",
    "results[1][\"data\"][\"A\"] = data[2]  # task2\n",
    "results[2][\"data\"][\"A\"] = data[3]  # task3\n",
    "results[3][\"data\"][\"A\"] = data[4]  # task4\n",
    "results[4][\"data\"][\"A\"] = data[5]  # task5\n",
    "results[4][\"data\"][\"B\"] = data[6]  # task5\n",
    "results[5][\"data\"][\"A\"] = data[7]  # task6.1\n",
    "results[5][\"data\"][\"B\"] = data[9]  # task6.1\n",
    "results[6][\"data\"][\"A\"] = data[8]  # task6.2\n",
    "results[6][\"data\"][\"B\"] = data[5]  # task6.2\n",
    "results[7][\"data\"][\"A\"] = data[10]  # task7.1\n",
    "results[8][\"data\"][\"A\"] = data[11]  # task7.2\n",
    "results[9][\"data\"][\"A\"] = data[12]  # task7.3\n",
    "results[10][\"data\"][\"B\"] = data[13]  # task7.4\n",
    "results[11][\"data\"][\"A\"] = data[14]  # task8\n",
    "results[11][\"data\"][\"B\"] = data[15]  # task8\n",
    "task9data = np.array([1] * data[16].sum() + [0] * (data[17].sum()))\n",
    "results[12][\"data\"][\"A\"] = task9data.tolist()  # task9\n",
    "\n",
    "for i in range(len(results) - 1):\n",
    "    if results[i][\"func\"] == \"d\":\n",
    "        results[i][\"result\"] = compute_clip_cohen_d(\n",
    "            results[i][\"data\"][\"A\"], results[i][\"data\"][\"B\"]\n",
    "        )\n",
    "\n",
    "    elif results[i][\"func\"] == \"l\":\n",
    "        results[i][\"result\"] = compute_linear_l(\n",
    "            results[i][\"data\"][\"A\"],\n",
    "            target=results[i][\"target\"],\n",
    "            morethan=results[i][\"morethan\"],\n",
    "        )\n",
    "    if isinstance(results[i][\"data\"][\"A\"], np.ndarray):\n",
    "        results[i][\"data\"][\"A\"] = results[i][\"data\"][\"A\"].tolist()\n",
    "    if isinstance(results[i][\"data\"][\"B\"], np.ndarray):\n",
    "        results[i][\"data\"][\"B\"] = results[i][\"data\"][\"B\"].tolist()\n",
    "\n",
    "results[12][\"result\"] = 2 * (\n",
    "    data[16].sum() / len(data[16]) - data[17].sum() / len(data[17])\n",
    ")\n",
    "\n",
    "dl = [r[\"result\"] for r in results]\n",
    "e = [\n",
    "    *(dl[0:5]),\n",
    "    (dl[5] + dl[6]) / 2,\n",
    "    (dl[7] + dl[8] + dl[9] + dl[10]) / 4,\n",
    "    *(dl[11:13]),\n",
    "]\n",
    "print(e)\n",
    "\n",
    "with open(\"analysis/stat_results/human.json\", \"w\") as f:\n",
    "    json.dump(\n",
    "        {\n",
    "            \"overview\": {\n",
    "                \"name\": \"human\",\n",
    "                \"dl\": dl,\n",
    "                \"e\": e,\n",
    "            },\n",
    "            \"details\": results,\n",
    "        },\n",
    "        f,\n",
    "        indent=4,\n",
    "    )"
   ]
  }
 ],
 "metadata": {
  "kernelspec": {
   "display_name": "llmcb",
   "language": "python",
   "name": "python3"
  },
  "language_info": {
   "codemirror_mode": {
    "name": "ipython",
    "version": 3
   },
   "file_extension": ".py",
   "mimetype": "text/x-python",
   "name": "python",
   "nbconvert_exporter": "python",
   "pygments_lexer": "ipython3",
   "version": "3.11.8"
  }
 },
 "nbformat": 4,
 "nbformat_minor": 2
}
