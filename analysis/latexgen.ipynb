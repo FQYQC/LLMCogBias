{
 "cells": [
  {
   "cell_type": "code",
   "execution_count": 1,
   "metadata": {},
   "outputs": [],
   "source": [
    "import os \n",
    "import os.path as osp\n",
    "import json\n",
    "\n",
    "basic = [\n",
    "    [2.00, 0.00, 1.60, 2.00, 0.83, 1.02, 0.95, 0.99, 2.00, 1.27],\n",
    "    [2.00, 1.08, 0.00, 0.00, 2.00, 0.67, 1.10, 0.00, 2.00, 0.98],\n",
    "    [1.48, 0.00, 2.00, 2.00, 2.00, 1.05, 1.00, 0.00, 0.00, 1.06],\n",
    "    [2.00, 0.81, 1.65, 2.00, 2.00, 1.10, 0.85, 0.00, 0.00, 1.15],\n",
    "    [2.00, 0.00, 0.00, 2.00, 1.47, 0.46, 0.50, 1.12, 0.00, 0.84],\n",
    "    [2.00, 0.00, 0.00, 2.00, 0.88, 1.00, 0.30, 1.27, 2.00, 1.04],\n",
    "    [2.00, 0.00, 0.00, 2.00, 2.00, 0.08, 0.75, 2.00, 2.00, 1.20],\n",
    "]\n",
    "\n",
    "\n",
    "template = [\n",
    "    \" GPT-4~\\cite{achiam2023gpt} \",\n",
    "    \" GPT-3.5~\\cite{brown2020language} \",\n",
    "    \" Gemini-1.5-Pro~\\cite{reid2024gemini} \",\n",
    "    \" Gemini-1.0-Pro~\\cite{team2023gemini} \",\n",
    "    \" Claude-3~\\cite{anthropic2024claude} \",\n",
    "    \" Claude-2~\\cite{anthropic2023claude} \",\n",
    "    \" Claude~\\cite{anthropic2023claudeinstant} \",\n",
    "]\n"
   ]
  },
  {
   "cell_type": "code",
   "execution_count": 2,
   "metadata": {},
   "outputs": [],
   "source": [
    "sbs = []\n",
    "path = \"stat_results/basic_sbs\"\n",
    "file = [\n",
    "    \"eva_data_20240428044314_basic_sbs_GPT-4.json\",\n",
    "    \"eva_data_20240428044314_basic_sbs_GPT-3.5-Turbo.json\",\n",
    "    \"eva_data_20240428044314_basic_sbs_Gemini-1.5-Pro.json\",\n",
    "    \"eva_data_20240428044314_basic_sbs_Gemini-Pro.json\",\n",
    "    \"eva_data_20240428044314_basic_sbs_Claude-3-Sonnet.json\",\n",
    "    \"eva_data_20240428044314_basic_sbs_Claude-2.json\",\n",
    "    \"eva_data_20240428044314_basic_sbs_Claude-instant.json\",\n",
    "]\n",
    "for fi in file:\n",
    "    with open(osp.join(path, fi), \"r\") as f:\n",
    "        sbs.append(json.load(f)[\"overview\"][\"e\"])\n",
    "\n",
    "sbs = [[round(x, 4) for x in y] for y in sbs]\n",
    "# print(sbs)\n",
    "sbs = [\n",
    "    [2.0, 0.78, 0.0, 2.0, 0.4162, 0.3162, 0.0, 1.8605, 0],\n",
    "    [0.4853, 0.0, 0.55, 1.8, 1.1691, 0.1459, 0.0, 0.0, 2.0],\n",
    "    [2.0, 0.63, 0.4, 2.0, 0.626, 1.2361, 0.9, 0, 2.0],\n",
    "    [2.0, 0.75, 0.43, 2.0, 0.6935, 1.3183, 0.22, 0.0, 0],\n",
    "    [0.8174, 0.16, 0.4, 2.0, 0.5287, 0.218, 0.33, 0.5855, 0],\n",
    "    [2.0, 0.2, 0.18, 1.4, 0.0, 0.6156, 0.55, 0.0, 0],\n",
    "    [2.0, 0.0, 0.0, 2.0, 1.8243, 1.1941, 0.71, 0.7048, 0],\n",
    "]"
   ]
  },
  {
   "cell_type": "code",
   "execution_count": 3,
   "metadata": {},
   "outputs": [],
   "source": [
    "def gen_text(template, data):\n",
    "    text = []\n",
    "    for i, t in enumerate(template):\n",
    "        strtext = t + \"& \"\n",
    "        curdata = data[i]\n",
    "        curdata.append(sum(curdata) / len(curdata))\n",
    "        for j, d in enumerate(curdata):\n",
    "            delta = d - basic[i][j]\n",
    "            if abs(delta) < 1e-6:\n",
    "                symbol = \"\"\n",
    "                symnum = 0\n",
    "            elif delta < 0:\n",
    "                symbol = \"-\"\n",
    "                symnum = -1\n",
    "            else:\n",
    "                symbol = \"+\"\n",
    "                symnum = 1\n",
    "            delta = symbol + f\"{abs(delta):.2f}\"\n",
    "\n",
    "            strtext += f\"{curdata[j]:.2f}\\ptd{{{delta}}}{{{symnum}}}\" + \" & \"\n",
    "\n",
    "        text.append(strtext[:-2] + \"\\\\\\\\\")\n",
    "    return text"
   ]
  },
  {
   "cell_type": "code",
   "execution_count": 4,
   "metadata": {},
   "outputs": [
    {
     "name": "stdout",
     "output_type": "stream",
     "text": [
      "[' GPT-4~\\\\cite{achiam2023gpt} & 2.00\\\\ptd{0.00}{0} & 0.78\\\\ptd{+0.78}{1} & 0.00\\\\ptd{1.60}{0} & 2.00\\\\ptd{0.00}{0} & 0.42\\\\ptd{0.41}{0} & 0.32\\\\ptd{0.70}{0} & 0.00\\\\ptd{0.95}{0} & 1.86\\\\ptd{+0.87}{1} & 0.00\\\\ptd{2.00}{0} & 0.82\\\\ptd{0.45}{0} \\\\\\\\', ' GPT-3.5~\\\\cite{brown2020language} & 0.49\\\\ptd{1.51}{0} & 0.00\\\\ptd{1.08}{0} & 0.55\\\\ptd{+0.55}{1} & 1.80\\\\ptd{+1.80}{1} & 1.17\\\\ptd{0.83}{0} & 0.15\\\\ptd{0.52}{0} & 0.00\\\\ptd{1.10}{0} & 0.00\\\\ptd{0.00}{0} & 2.00\\\\ptd{0.00}{0} & 0.68\\\\ptd{0.30}{0} \\\\\\\\', '\\\\midrule', ' Gemini-1.5-Pro~\\\\cite{reid2024gemini} & 2.00\\\\ptd{+0.52}{1} & 0.63\\\\ptd{+0.63}{1} & 0.40\\\\ptd{1.60}{0} & 2.00\\\\ptd{0.00}{0} & 0.63\\\\ptd{1.37}{0} & 1.24\\\\ptd{+0.19}{1} & 0.90\\\\ptd{0.10}{0} & 0.00\\\\ptd{0.00}{0} & 2.00\\\\ptd{+2.00}{1} & 1.09\\\\ptd{+0.03}{1} \\\\\\\\', ' Gemini-1.0-Pro~\\\\cite{team2023gemini} & 2.00\\\\ptd{0.00}{0} & 0.75\\\\ptd{0.06}{0} & 0.43\\\\ptd{1.22}{0} & 2.00\\\\ptd{0.00}{0} & 0.69\\\\ptd{1.31}{0} & 1.32\\\\ptd{+0.22}{1} & 0.22\\\\ptd{0.63}{0} & 0.00\\\\ptd{0.00}{0} & 0.00\\\\ptd{0.00}{0} & 0.82\\\\ptd{0.33}{0} \\\\\\\\', '\\\\midrule', ' Claude-3~\\\\cite{anthropic2024claude} & 0.82\\\\ptd{1.18}{0} & 0.16\\\\ptd{+0.16}{1} & 0.40\\\\ptd{+0.40}{1} & 2.00\\\\ptd{0.00}{0} & 0.53\\\\ptd{0.94}{0} & 0.22\\\\ptd{0.24}{0} & 0.33\\\\ptd{0.17}{0} & 0.59\\\\ptd{0.53}{0} & 0.00\\\\ptd{0.00}{0} & 0.56\\\\ptd{0.28}{0} \\\\\\\\', ' Claude-2~\\\\cite{anthropic2023claude} & 2.00\\\\ptd{0.00}{0} & 0.20\\\\ptd{+0.20}{1} & 0.18\\\\ptd{+0.18}{1} & 1.40\\\\ptd{0.60}{0} & 0.00\\\\ptd{0.88}{0} & 0.62\\\\ptd{0.38}{0} & 0.55\\\\ptd{+0.25}{1} & 0.00\\\\ptd{1.27}{0} & 0.00\\\\ptd{2.00}{0} & 0.55\\\\ptd{0.49}{0} \\\\\\\\', ' Claude~\\\\cite{anthropic2023claudeinstant} & 2.00\\\\ptd{0.00}{0} & 0.00\\\\ptd{0.00}{0} & 0.00\\\\ptd{0.00}{0} & 2.00\\\\ptd{0.00}{0} & 1.82\\\\ptd{0.18}{0} & 1.19\\\\ptd{+1.11}{1} & 0.71\\\\ptd{0.04}{0} & 0.70\\\\ptd{1.30}{0} & 0.00\\\\ptd{2.00}{0} & 0.94\\\\ptd{0.26}{0} \\\\\\\\']\n"
     ]
    }
   ],
   "source": [
    "ret = gen_text(template, sbs)\n",
    "ret.insert(2, \"\\\\midrule\")\n",
    "ret.insert(5, \"\\\\midrule\")\n",
    "with open(\"../texdraft.txt\", \"w\") as f:\n",
    "    f.write(\"\\n\".join(ret))\n",
    "print(ret)"
   ]
  }
 ],
 "metadata": {
  "kernelspec": {
   "display_name": "llmcb",
   "language": "python",
   "name": "python3"
  },
  "language_info": {
   "codemirror_mode": {
    "name": "ipython",
    "version": 3
   },
   "file_extension": ".py",
   "mimetype": "text/x-python",
   "name": "python",
   "nbconvert_exporter": "python",
   "pygments_lexer": "ipython3",
   "version": "3.11.8"
  }
 },
 "nbformat": 4,
 "nbformat_minor": 2
}
