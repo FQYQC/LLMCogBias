{
 "cells": [
  {
   "cell_type": "code",
   "execution_count": 1,
   "metadata": {},
   "outputs": [
    {
     "name": "stdout",
     "output_type": "stream",
     "text": [
      "[1.39888889 0.78888889 1.28111111 1.19333333 1.06111111 1.19444444\n",
      " 1.25333333]\n"
     ]
    }
   ],
   "source": [
    "import os\n",
    "import os.path as osp\n",
    "import json\n",
    "import numpy as np\n",
    "\n",
    "basic = [\n",
    "    [2.00, 2.00, 1.60, 2.00, 0.83, 1.02, 0.95, 0.99, 1.20, 1.40],\n",
    "    [2.00, 1.08, 0.00, 0.00, 2.00, 0.67, 1.10, 0.00, 0.25, 0.79],\n",
    "    [1.48, 2.00, 2.00, 2.00, 2.00, 1.05, 1.00, 0.00, 0.00, 1.28],\n",
    "    [2.00, 1.19, 1.60, 2.00, 2.00, 1.10, 0.85, 0.00, 0.00, 1.19],\n",
    "    [2.00, 2.00, 0.00, 2.00, 1.47, 0.46, 0.50, 1.12, 0.00, 1.06],\n",
    "    [2.00, 1.90, 0.00, 2.00, 0.88, 1.00, 0.30, 1.27, 1.4, 1.19],\n",
    "    [2.00, 2.00, 0.00, 2.00, 2.00, 0.08, 0.75, 2.00, 0.45, 1.25],\n",
    "]\n",
    "\n",
    "print(np.array(basic)[:, :-1].mean(axis=1))\n",
    "\n",
    "template = [\n",
    "    \" GPT-4~\\cite{achiam2023gpt} \",\n",
    "    \" GPT-3.5~\\cite{brown2020language} \",\n",
    "    \" Gemini-1.5-Pro~\\cite{reid2024gemini} \",\n",
    "    \" Gemini-1.0-Pro~\\cite{team2023gemini} \",\n",
    "    \" Claude-3~\\cite{anthropic2024claude} \",\n",
    "    \" Claude-2~\\cite{anthropic2023claude} \",\n",
    "    \" Claude~\\cite{anthropic2023claudeinstant} \",\n",
    "]"
   ]
  },
  {
   "cell_type": "code",
   "execution_count": 2,
   "metadata": {},
   "outputs": [],
   "source": [
    "def gen_text(template, data, basic=basic):\n",
    "    text = []\n",
    "    for i, t in enumerate(template):\n",
    "        strtext = t + \"& \"\n",
    "        curdata = data[i]\n",
    "        curdatawonan = [it for it in curdata if it is not None]\n",
    "        curdata.append(sum(curdatawonan) / len(curdatawonan))\n",
    "        for j, d in enumerate(curdata):\n",
    "            if d is None:\n",
    "                strtext += \"$-$\\\\tnote{*} & \"\n",
    "                continue\n",
    "            delta = d - basic[i][j]\n",
    "            if abs(delta) < 1e-6:\n",
    "                symbol = \"\"\n",
    "                symnum = 0\n",
    "            elif delta < 0:\n",
    "                symbol = \"$-$\"\n",
    "                symnum = -1\n",
    "            else:\n",
    "                symbol = \"$+$\"\n",
    "                symnum = 1\n",
    "            delta = symbol + f\"{abs(delta):.2f}\"\n",
    "\n",
    "            strtext += f\"{curdata[j]:.2f}\\ptd{{{delta}}}{{{symnum}}}\" + \" & \"\n",
    "\n",
    "        text.append(strtext[:-2] + \"\\\\\\\\\")\n",
    "    return text"
   ]
  },
  {
   "cell_type": "code",
   "execution_count": 3,
   "metadata": {},
   "outputs": [
    {
     "name": "stdout",
     "output_type": "stream",
     "text": [
      "[[2.     0.6667 0.     2.     0.4162 0.3162 0.     1.8605 0.    ]\n",
      " [0.4853 2.     0.8571 2.     1.1691 0.1459 0.     0.     0.8   ]\n",
      " [2.     1.1429 0.5    2.     0.626  1.2361 0.9    0.     0.8   ]\n",
      " [2.     1.1111 2.     2.     0.6935 1.3183 0.25   0.     0.    ]\n",
      " [0.8174 1.5    0.5    2.     0.5287 0.218  0.3    0.5855 0.    ]\n",
      " [2.     1.8    0.6667 1.4    0.     0.6156 0.55   0.     0.    ]\n",
      " [2.     2.     0.     2.     1.8243 1.1941 0.75   0.7048 0.    ]]\n",
      "[' GPT-4~\\\\cite{achiam2023gpt} & 2.00\\\\ptd{0.00}{0} & 0.38\\\\ptd{$-$1.62}{-1} & 0.00\\\\ptd{$-$1.60}{-1} & 2.00\\\\ptd{0.00}{0} & 0.42\\\\ptd{$-$0.41}{-1} & 0.32\\\\ptd{$-$0.70}{-1} & 0.00\\\\ptd{$-$0.95}{-1} & 1.86\\\\ptd{$+$0.87}{1} & 0.00\\\\ptd{$-$1.20}{-1} & 0.77\\\\ptd{$-$0.63}{-1} \\\\\\\\', ' GPT-3.5~\\\\cite{brown2020language} & 0.49\\\\ptd{$-$1.51}{-1} & 1.00\\\\ptd{$-$0.08}{-1} & 0.56\\\\ptd{$+$0.56}{1} & 1.80\\\\ptd{$+$1.80}{1} & 1.17\\\\ptd{$-$0.83}{-1} & 0.15\\\\ptd{$-$0.52}{-1} & 0.00\\\\ptd{$-$1.10}{-1} & 0.00\\\\ptd{0.00}{0} & 0.85\\\\ptd{$+$0.60}{1} & 0.67\\\\ptd{$-$0.12}{-1} \\\\\\\\', '\\\\midrule', ' Gemini-1.5-Pro~\\\\cite{reid2024gemini} & 2.00\\\\ptd{$+$0.52}{1} & $-$\\\\tnote{1} & 0.40\\\\ptd{$-$1.60}{-1} & 2.00\\\\ptd{0.00}{0} & 0.63\\\\ptd{$-$1.37}{-1} & 1.24\\\\ptd{$+$0.19}{1} & 0.90\\\\ptd{$-$0.10}{-1} & 0.00\\\\ptd{0.00}{0} & 0.95\\\\ptd{$+$0.95}{1} & 1.01\\\\ptd{$-$0.27}{-1} \\\\\\\\', ' Gemini-1.0-Pro~\\\\cite{team2023gemini} & 2.00\\\\ptd{0.00}{0} & $-$\\\\tnote{1} & 0.43\\\\ptd{$-$1.17}{-1} & 2.00\\\\ptd{0.00}{0} & 0.69\\\\ptd{$-$1.31}{-1} & 1.32\\\\ptd{$+$0.22}{1} & 0.22\\\\ptd{$-$0.63}{-1} & 0.00\\\\ptd{0.00}{0} & 0.00\\\\ptd{0.00}{0} & 0.83\\\\ptd{$-$0.36}{-1} \\\\\\\\', '\\\\midrule', ' Claude-3~\\\\cite{anthropic2024claude} & 0.82\\\\ptd{$-$1.18}{-1} & 1.27\\\\ptd{$-$0.73}{-1} & 0.40\\\\ptd{$+$0.40}{1} & 2.00\\\\ptd{0.00}{0} & 0.53\\\\ptd{$-$0.94}{-1} & 0.22\\\\ptd{$-$0.24}{-1} & 0.33\\\\ptd{$-$0.17}{-1} & 0.59\\\\ptd{$-$0.53}{-1} & 0.00\\\\ptd{0.00}{0} & 0.68\\\\ptd{$-$0.38}{-1} \\\\\\\\', ' Claude-2~\\\\cite{anthropic2023claude} & 2.00\\\\ptd{0.00}{0} & 1.80\\\\ptd{$-$0.10}{-1} & 0.18\\\\ptd{$+$0.18}{1} & 1.40\\\\ptd{$-$0.60}{-1} & 0.00\\\\ptd{$-$0.88}{-1} & 0.62\\\\ptd{$-$0.38}{-1} & 0.55\\\\ptd{$+$0.25}{1} & 0.00\\\\ptd{$-$1.27}{-1} & 0.00\\\\ptd{$-$1.40}{-1} & 0.73\\\\ptd{$-$0.46}{-1} \\\\\\\\', ' Claude~\\\\cite{anthropic2023claudeinstant} & 2.00\\\\ptd{0.00}{0} & 1.40\\\\ptd{$-$0.60}{-1} & 0.00\\\\ptd{0.00}{0} & 2.00\\\\ptd{0.00}{0} & 1.82\\\\ptd{$-$0.18}{-1} & 1.19\\\\ptd{$+$1.11}{1} & 0.71\\\\ptd{$-$0.04}{-1} & 0.70\\\\ptd{$-$1.30}{-1} & 0.00\\\\ptd{$-$0.45}{-1} & 1.09\\\\ptd{$-$0.16}{-1} \\\\\\\\']\n"
     ]
    }
   ],
   "source": [
    "# SBS\n",
    "\n",
    "\n",
    "sbs = []\n",
    "path = \"stat_results/basic_sbs\"\n",
    "file = [\n",
    "    f\"eva_data_20240428044314_{path.split('/')[-1]}_GPT-4.json\",\n",
    "    f\"eva_data_20240428044314_{path.split('/')[-1]}_GPT-3.5-Turbo.json\",\n",
    "    f\"eva_data_20240428044314_{path.split('/')[-1]}_Gemini-1.5-Pro.json\",\n",
    "    f\"eva_data_20240428044314_{path.split('/')[-1]}_Gemini-Pro.json\",\n",
    "    f\"eva_data_20240428044314_{path.split('/')[-1]}_Claude-3-Sonnet.json\",\n",
    "    f\"eva_data_20240428044314_{path.split('/')[-1]}_Claude-2.json\",\n",
    "    f\"eva_data_20240428044314_{path.split('/')[-1]}_Claude-instant.json\",\n",
    "]\n",
    "for fi in file:\n",
    "    with open(osp.join(path, fi), \"r\") as f:\n",
    "        sbs.append(json.load(f)[\"overview\"][\"e\"])\n",
    "\n",
    "sbs = [[round(x, 4) for x in y] for y in sbs]\n",
    "print(np.array(sbs))\n",
    "sbs = [\n",
    "    [2.0, 0.38, 0.0, 2.0, 0.4162, 0.3162, 0.0, 1.8605, 0],\n",
    "    [0.4853, 1.0, 0.56, 1.8, 1.1691, 0.1459, 0.0, 0.0, 0.85],\n",
    "    [2.0, None, 0.4, 2.0, 0.626, 1.2361, 0.9, 0, 0.95],\n",
    "    [2.0, None, 0.43, 2.0, 0.6935, 1.3183, 0.22, 0.0, 0],\n",
    "    [0.8174, 1.27, 0.4, 2.0, 0.5287, 0.218, 0.33, 0.5855, 0],\n",
    "    [2.0, 1.8, 0.18, 1.4, 0.0, 0.6156, 0.55, 0.0, 0],\n",
    "    [2.0, 1.4, 0.0, 2.0, 1.8243, 1.1941, 0.71, 0.7048, 0],\n",
    "]\n",
    "\n",
    "ret = gen_text(template, sbs)\n",
    "ret.insert(2, \"\\\\midrule\")\n",
    "ret.insert(5, \"\\\\midrule\")\n",
    "with open(\"../texdraft.txt\", \"w\") as f:\n",
    "    f.write(\"\\n\".join(ret))\n",
    "    f.write(\"\\n\")\n",
    "    f.write(\"\\n\")\n",
    "print(ret)"
   ]
  },
  {
   "cell_type": "code",
   "execution_count": 4,
   "metadata": {},
   "outputs": [
    {
     "name": "stdout",
     "output_type": "stream",
     "text": [
      "[[2.     1.2    2.     2.     2.     1.     1.     0.     1.    ]\n",
      " [2.     1.     0.     0.2    2.     0.5058 0.7751 0.     0.2   ]\n",
      " [1.8533 0.     2.     2.     0.8783 0.     1.     0.     0.    ]\n",
      " [2.     1.7778 0.     2.     1.5251 0.9776 0.9119 0.     0.    ]\n",
      " [2.     2.     0.     2.     0.805  0.3162 0.2475 0.8572 0.    ]\n",
      " [2.     1.     0.     0.     2.     0.     1.0546 1.9775 0.    ]\n",
      " [2.     2.     0.     2.     2.     1.     0.55   0.9383 0.2   ]]\n",
      "[' GPT-4~\\\\cite{achiam2023gpt} & 2.00\\\\ptd{0.00}{0} & 1.25\\\\ptd{$-$0.75}{-1} & 2.00\\\\ptd{$+$0.40}{1} & 2.00\\\\ptd{0.00}{0} & 2.00\\\\ptd{$+$1.17}{1} & 1.00\\\\ptd{$-$0.02}{-1} & 1.00\\\\ptd{$+$0.05}{1} & 0.00\\\\ptd{$-$0.99}{-1} & 1.11\\\\ptd{$-$0.09}{-1} & 1.37\\\\ptd{$-$0.03}{-1} \\\\\\\\', ' GPT-3.5~\\\\cite{brown2020language} & 2.00\\\\ptd{0.00}{0} & 0.95\\\\ptd{$-$0.13}{-1} & 0.00\\\\ptd{0.00}{0} & 0.15\\\\ptd{$+$0.15}{1} & 2.00\\\\ptd{0.00}{0} & 0.51\\\\ptd{$-$0.16}{-1} & 0.78\\\\ptd{$-$0.32}{-1} & 0.00\\\\ptd{0.00}{0} & 0.25\\\\ptd{0.00}{0} & 0.74\\\\ptd{$-$0.05}{-1} \\\\\\\\', '\\\\midrule', ' Gemini-1.5-Pro~\\\\cite{reid2024gemini} & 1.85\\\\ptd{$+$0.37}{1} & 0.00\\\\ptd{$-$2.00}{-1} & 2.00\\\\ptd{0.00}{0} & 2.00\\\\ptd{0.00}{0} & 0.88\\\\ptd{$-$1.12}{-1} & 0.00\\\\ptd{$-$1.05}{-1} & 1.00\\\\ptd{0.00}{0} & 0.00\\\\ptd{0.00}{0} & 0.00\\\\ptd{0.00}{0} & 0.86\\\\ptd{$-$0.42}{-1} \\\\\\\\', ' Gemini-1.0-Pro~\\\\cite{team2023gemini} & 2.00\\\\ptd{0.00}{0} & 1.75\\\\ptd{$+$0.56}{1} & 0.00\\\\ptd{$-$1.60}{-1} & 2.00\\\\ptd{0.00}{0} & 1.53\\\\ptd{$-$0.47}{-1} & 0.98\\\\ptd{$-$0.12}{-1} & 0.86\\\\ptd{$+$0.01}{1} & 0.00\\\\ptd{0.00}{0} & 0.00\\\\ptd{0.00}{0} & 1.01\\\\ptd{$-$0.18}{-1} \\\\\\\\', '\\\\midrule', ' Claude-3~\\\\cite{anthropic2024claude} & 2.00\\\\ptd{0.00}{0} & 2.00\\\\ptd{0.00}{0} & 0.00\\\\ptd{0.00}{0} & 2.00\\\\ptd{0.00}{0} & 0.81\\\\ptd{$-$0.66}{-1} & 0.32\\\\ptd{$-$0.14}{-1} & 0.25\\\\ptd{$-$0.25}{-1} & 0.86\\\\ptd{$-$0.26}{-1} & 0.00\\\\ptd{0.00}{0} & 0.91\\\\ptd{$-$0.15}{-1} \\\\\\\\', ' Claude-2~\\\\cite{anthropic2023claude} & 2.00\\\\ptd{0.00}{0} & 0.20\\\\ptd{$-$1.70}{-1} & $-$\\\\tnote{1} & $-$\\\\tnote{1} & $-$\\\\tnote{1} & $-$\\\\tnote{1} & 0.55\\\\ptd{$+$0.25}{1} & 1.98\\\\ptd{$+$0.71}{1} & 0.00\\\\ptd{$-$1.40}{-1} & 0.95\\\\ptd{$-$0.24}{-1} \\\\\\\\', ' Claude~\\\\cite{anthropic2023claudeinstant} & 2.00\\\\ptd{0.00}{0} & 2.00\\\\ptd{0.00}{0} & 0.00\\\\ptd{0.00}{0} & 2.00\\\\ptd{0.00}{0} & 2.00\\\\ptd{0.00}{0} & 1.00\\\\ptd{$+$0.92}{1} & 0.55\\\\ptd{$-$0.20}{-1} & 0.94\\\\ptd{$-$1.06}{-1} & 0.20\\\\ptd{$-$0.25}{-1} & 1.19\\\\ptd{$-$0.06}{-1} \\\\\\\\']\n"
     ]
    }
   ],
   "source": [
    "# Mindful\n",
    "\n",
    "mindful = []\n",
    "path = \"stat_results/basic_mindful_awj\"\n",
    "file = [\n",
    "    f\"eva_data_20240428044314_{path.split('/')[-1]}_GPT-4.json\",\n",
    "    f\"eva_data_20240428044314_{path.split('/')[-1]}_GPT-3.5-Turbo.json\",\n",
    "    f\"eva_data_20240428044314_{path.split('/')[-1]}_Gemini-1.5-Pro.json\",\n",
    "    f\"eva_data_20240428044314_{path.split('/')[-1]}_Gemini-Pro.json\",\n",
    "    f\"eva_data_20240428044314_{path.split('/')[-1]}_Claude-3-Sonnet.json\",\n",
    "    f\"eva_data_20240428044314_{path.split('/')[-1]}_Claude-2.json\",\n",
    "    f\"eva_data_20240428044314_{path.split('/')[-1]}_Claude-instant.json\",\n",
    "]\n",
    "\n",
    "for fi in file:\n",
    "    with open(osp.join(path, fi), \"r\") as f:\n",
    "        mindful.append(json.load(f)[\"overview\"][\"e\"])\n",
    "\n",
    "mindful = [[round(x, 4) for x in y] for y in mindful]\n",
    "print(np.array(mindful))\n",
    "mindful = [\n",
    "    [2.0, 1.25, 2.0, 2.0, 2.0, 1.0, 1.0, 0.0, 1.1111],\n",
    "    [2.0, 0.95, 0.0, 0.15, 2.0, 0.5058, 0.7751, 0.0, 0.25],\n",
    "    [1.8533, 0.0, 2.0, 2.0, 0.8783, 0.0, 1.0, 0, 0.0],\n",
    "    [2.0, 1.75, 0.0, 2.0, 1.5251, 0.9776, 0.8619, 0.0, 0],\n",
    "    [2.0, 2.0, 0.0, 2.0, 0.805, 0.3162, 0.2475, 0.8572, 0.0],\n",
    "    [2.0, 0.2, None, None, None, None, 0.5546, 1.9775, 0],\n",
    "    [2.0, 2.0, 0.0, 2.0, 2.0, 1.0, 0.55, 0.9383, 0.20],\n",
    "]\n",
    "\n",
    "ret = gen_text(template, mindful)\n",
    "ret.insert(2, \"\\\\midrule\")\n",
    "ret.insert(5, \"\\\\midrule\")\n",
    "with open(\"../texdraft.txt\", \"a\") as f:\n",
    "    f.write(\"\\n\".join(ret))\n",
    "    f.write(\"\\n\")\n",
    "    f.write(\"\\n\")\n",
    "print(ret)"
   ]
  },
  {
   "cell_type": "code",
   "execution_count": 5,
   "metadata": {},
   "outputs": [
    {
     "name": "stdout",
     "output_type": "stream",
     "text": [
      "[[0.4353 0.     1.6    0.2    0.9751 0.4341 1.     2.     0.    ]\n",
      " [0.2252 0.     2.     1.     2.     0.725  0.7673 1.5164 0.    ]\n",
      " [0.5924 1.1429 0.2222 2.     1.1677 1.     0.4075 0.     0.2   ]]\n",
      "[' GPT-4~\\\\cite{achiam2023gpt} & 0.44\\\\ptd{$-$1.56}{-1} & 0.25\\\\ptd{$-$1.75}{-1} & 1.60\\\\ptd{0.00}{0} & 0.20\\\\ptd{$-$1.80}{-1} & 0.98\\\\ptd{$+$0.15}{1} & 0.43\\\\ptd{$-$0.59}{-1} & 1.00\\\\ptd{$+$0.05}{1} & 2.00\\\\ptd{$+$1.01}{1} & 0.00\\\\ptd{$-$1.20}{-1} & 0.77\\\\ptd{$-$0.63}{-1} \\\\\\\\', ' Gemini-1.5-Pro~\\\\cite{reid2024gemini} & 0.23\\\\ptd{$-$1.25}{-1} & 0.00\\\\ptd{$-$2.00}{-1} & 0.20\\\\ptd{$-$1.80}{-1} & 1.05\\\\ptd{$-$0.95}{-1} & 2.00\\\\ptd{0.00}{0} & 0.72\\\\ptd{$-$0.33}{-1} & 0.77\\\\ptd{$-$0.23}{-1} & 1.52\\\\ptd{$+$1.52}{1} & 0.00\\\\ptd{0.00}{0} & 0.72\\\\ptd{$-$0.56}{-1} \\\\\\\\', ' Claude-3~\\\\cite{anthropic2024claude} & 0.59\\\\ptd{$-$1.41}{-1} & 0.85\\\\ptd{$-$1.15}{-1} & 0.20\\\\ptd{$+$0.20}{1} & 2.00\\\\ptd{0.00}{0} & 1.17\\\\ptd{$-$0.30}{-1} & 1.00\\\\ptd{$+$0.54}{1} & 0.38\\\\ptd{$-$0.12}{-1} & 0.00\\\\ptd{$-$1.12}{-1} & 0.15\\\\ptd{$+$0.15}{1} & 0.70\\\\ptd{$-$0.36}{-1} \\\\\\\\']\n"
     ]
    }
   ],
   "source": [
    "rewrite = []\n",
    "path = \"stat_results/basic_rewrite_sep\"\n",
    "\n",
    "\n",
    "filehere = [\n",
    "    f\"eva_data_20240428044314_{path.split('/')[-1]}_GPT-4.json\",\n",
    "    f\"eva_data_20240428044314_{path.split('/')[-1]}_Gemini-1.5-Pro.json\",\n",
    "    f\"eva_data_20240428044314_{path.split('/')[-1]}_Claude-3-Sonnet.json\",\n",
    "]\n",
    "\n",
    "templatehere = [\n",
    "    \" GPT-4~\\cite{achiam2023gpt} \",\n",
    "    \" Gemini-1.5-Pro~\\cite{reid2024gemini} \",\n",
    "    \" Claude-3~\\cite{anthropic2024claude} \",\n",
    "]\n",
    "\n",
    "for fi in filehere:\n",
    "    with open(osp.join(path, fi), \"r\") as f:\n",
    "        rewrite.append(json.load(f)[\"overview\"][\"e\"])\n",
    "\n",
    "rewrite = [[round(x, 4) if x is not None else None for x in y] for y in rewrite]\n",
    "print(np.array(rewrite))\n",
    "rewrite = [\n",
    "    [0.4353, 0.25, 1.6, 0.2, 0.9751, 0.4341, 1.0, 2.0, 0],\n",
    "    [0.2252, 0.0, 0.2, 1.05, 2.0, 0.725, 0.7673, 1.5164, 0.0],\n",
    "    [0.5924, 0.85, 0.2, 2.0, 1.1677, 1.0, 0.3825, 0.0, 0.15],\n",
    "]\n",
    "\n",
    "ret = gen_text(templatehere, rewrite, basic=[basic[0], basic[2], basic[4]])\n",
    "\n",
    "with open(\"../texdraft.txt\", \"a\") as f:\n",
    "    f.write(\"\\n\".join(ret))\n",
    "    f.write(\"\\n\")\n",
    "    f.write(\"\\n\")\n",
    "\n",
    "print(ret)"
   ]
  },
  {
   "cell_type": "code",
   "execution_count": 6,
   "metadata": {},
   "outputs": [
    {
     "name": "stdout",
     "output_type": "stream",
     "text": [
      "[[1.238  0.     0.     0.     0.1351 0.6261 0.1    0.8656 0.    ]\n",
      " [   nan 0.     0.     0.     0.     1.     0.1613 0.     1.6   ]\n",
      " [   nan 0.     0.     0.     0.     1.1902 0.1    0.     0.    ]]\n",
      "[' GPT-4~\\\\cite{achiam2023gpt} & 1.24\\\\ptd{$-$0.76}{-1} & 0.00\\\\ptd{$-$2.00}{-1} & 0.00\\\\ptd{$-$1.60}{-1} & 0.00\\\\ptd{$-$2.00}{-1} & 0.14\\\\ptd{$-$0.69}{-1} & 0.63\\\\ptd{$-$0.39}{-1} & 0.10\\\\ptd{$-$0.85}{-1} & 0.87\\\\ptd{$-$0.12}{-1} & 0.00\\\\ptd{$-$1.20}{-1} & 0.33\\\\ptd{$-$1.07}{-1} \\\\\\\\', ' Gemini-1.5-Pro~\\\\cite{reid2024gemini} & $-$\\\\tnote{1} & 0.00\\\\ptd{$-$2.00}{-1} & 0.00\\\\ptd{$-$2.00}{-1} & 0.00\\\\ptd{$-$2.00}{-1} & 0.00\\\\ptd{$-$2.00}{-1} & 1.00\\\\ptd{$-$0.05}{-1} & 0.16\\\\ptd{$-$0.84}{-1} & 0.00\\\\ptd{0.00}{0} & 1.60\\\\ptd{$+$1.60}{1} & 0.35\\\\ptd{$-$0.93}{-1} \\\\\\\\', ' Claude-3~\\\\cite{anthropic2024claude} & $-$\\\\tnote{1} & 0.00\\\\ptd{$-$2.00}{-1} & 0.00\\\\ptd{0.00}{0} & 0.00\\\\ptd{$-$2.00}{-1} & 0.00\\\\ptd{$-$1.47}{-1} & 1.19\\\\ptd{$+$0.73}{1} & 0.10\\\\ptd{$-$0.40}{-1} & 0.00\\\\ptd{$-$1.12}{-1} & 0.00\\\\ptd{0.00}{0} & 0.16\\\\ptd{$-$0.90}{-1} \\\\\\\\']\n"
     ]
    }
   ],
   "source": [
    "myfull = []\n",
    "path = \"stat_results/my_full\"\n",
    "\n",
    "\n",
    "filehere = [\n",
    "    f\"eva_data_20240428044314_{path.split('/')[-1]}_GPT-4.json\",\n",
    "    f\"eva_data_20240428044314_{path.split('/')[-1]}_Gemini-1.5-Pro.json\",\n",
    "    f\"eva_data_20240428044314_{path.split('/')[-1]}_Claude-3-Sonnet.json\",\n",
    "]\n",
    "\n",
    "templatehere = [\n",
    "    \" GPT-4~\\cite{achiam2023gpt} \",\n",
    "    \" Gemini-1.5-Pro~\\cite{reid2024gemini} \",\n",
    "    \" Claude-3~\\cite{anthropic2024claude} \",\n",
    "]\n",
    "\n",
    "for fi in filehere:\n",
    "    with open(osp.join(path, fi), \"r\") as f:\n",
    "        myfull.append(json.load(f)[\"overview\"][\"e\"])\n",
    "\n",
    "myfull = [[round(x, 4) if x is not None else None for x in y] for y in myfull]\n",
    "print(np.array(myfull))\n",
    "myfull = [\n",
    "    [1.238, 0.0, 0.0, 0.0, 0.1351, 0.6261, 0.1,    0.8656, 0.0],\n",
    "    [None, 0.0, 0.0, 0.0,  0.0,    1.00,   0.1613, 0.0,    1.6],\n",
    "    [None, 0.0, 0.0, 0.0,  0.0,    1.1902, 0.1,    0.0,    0.0],\n",
    "]\n",
    "\n",
    "ret = gen_text(templatehere, myfull, basic=[basic[0], basic[2], basic[4]])\n",
    "\n",
    "with open(\"../texdraft.txt\", \"a\") as f:\n",
    "    f.write(\"\\n\".join(ret))\n",
    "    f.write(\"\\n\")\n",
    "    f.write(\"\\n\")\n",
    "\n",
    "print(ret)"
   ]
  },
  {
   "cell_type": "code",
   "execution_count": null,
   "metadata": {},
   "outputs": [],
   "source": []
  },
  {
   "cell_type": "code",
   "execution_count": null,
   "metadata": {},
   "outputs": [],
   "source": []
  },
  {
   "cell_type": "code",
   "execution_count": null,
   "metadata": {},
   "outputs": [],
   "source": []
  }
 ],
 "metadata": {
  "kernelspec": {
   "display_name": "llmcb",
   "language": "python",
   "name": "python3"
  },
  "language_info": {
   "codemirror_mode": {
    "name": "ipython",
    "version": 3
   },
   "file_extension": ".py",
   "mimetype": "text/x-python",
   "name": "python",
   "nbconvert_exporter": "python",
   "pygments_lexer": "ipython3",
   "version": "3.11.8"
  }
 },
 "nbformat": 4,
 "nbformat_minor": 2
}
