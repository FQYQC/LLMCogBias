{
 "cells": [
  {
   "cell_type": "code",
   "execution_count": null,
   "metadata": {},
   "outputs": [],
   "source": [
    "# ! export http_proxy=http://172.22.160.1:7880\n",
    "# ! export https_proxy=http://172.22.160.1:7880\n",
    "# ! wget google.com\n",
    "\n",
    "import os\n",
    "import json\n",
    "from poe_api_wrapper import PoeApi, PoeExample\n",
    "\n",
    "os.environ[\"http_proxy\"] = \"http://172.22.160.1:7880\"\n",
    "os.environ[\"https_proxy\"] = \"http://172.22.160.1:7880\"\n",
    "\n",
    "api_config_file = \"api_configs.json\"\n",
    "with open(api_config_file, \"r\") as f:\n",
    "    api_configs = json.load(f)\n",
    "\n",
    "tokens = api_configs[\"poe_tokens\"]"
   ]
  },
  {
   "cell_type": "code",
   "execution_count": null,
   "metadata": {},
   "outputs": [],
   "source": [
    "# print(tokens)\n",
    "tokens = {\n",
    "    \"b\": \"NxeuhIbAINHu0OM49hkvWw%3D%3D\",\n",
    "    \"lat\": \"4vIeYDWHpqB7nlwlXGAkQ8u5nAKFG98FjueVCPPDlw%3D%3D\",\n",
    "}\n",
    "client = PoeApi(cookie=tokens)"
   ]
  },
  {
   "cell_type": "code",
   "execution_count": null,
   "metadata": {},
   "outputs": [],
   "source": [
    "hist = client.get_chat_history()\n",
    "hist[\"data\"]['capybara'][0]"
   ]
  },
  {
   "cell_type": "code",
   "execution_count": null,
   "metadata": {},
   "outputs": [],
   "source": [
    "ret=client.send_message(\"Assistant\", \"Hello, please write a 1000 word essay describing a beautiful house!\")"
   ]
  },
  {
   "cell_type": "code",
   "execution_count": null,
   "metadata": {},
   "outputs": [],
   "source": [
    "ans = []\n",
    "for chunk in ret:\n",
    "    pass\n",
    "chunk"
   ]
  },
  {
   "cell_type": "code",
   "execution_count": null,
   "metadata": {},
   "outputs": [],
   "source": [
    "ans"
   ]
  },
  {
   "cell_type": "code",
   "execution_count": 1,
   "metadata": {},
   "outputs": [
    {
     "name": "stdout",
     "output_type": "stream",
     "text": [
      "APIs initialized, using cache at results/cache/cache_default.json\n"
     ]
    }
   ],
   "source": [
    "# imports\n",
    "import os\n",
    "import os.path as osp\n",
    "import sys\n",
    "import json\n",
    "import tqdm\n",
    "import yaml\n",
    "import copy\n",
    "\n",
    "from poe_api_wrapper import PoeApi\n",
    "from cache import Cacher\n",
    "\n",
    "# configs\n",
    "os.environ[\"http_proxy\"] = \"http://172.22.160.1:7880\"\n",
    "os.environ[\"https_proxy\"] = \"http://172.22.160.1:7880\"\n",
    "\n",
    "api_config_file = \"api_configs.json\"\n",
    "with open(api_config_file, \"r\") as f:\n",
    "    api_configs = json.load(f)\n",
    "\n",
    "tokens = api_configs[\"poe_tokens\"]\n",
    "tokens\n",
    "\n",
    "\n",
    "# experiment settings\n",
    "\n",
    "config_path = \"results/configs\"\n",
    "config_name = \"test\"\n",
    "config_path = osp.join(config_path, config_name + \".yaml\")\n",
    "\n",
    "configs = yaml.load(open(config_path, \"r\"), Loader=yaml.FullLoader)\n",
    "\n",
    "dataset_path = osp.join(\n",
    "    configs[\"data\"][\"data_path\"], configs[\"data\"][\"dataset_name\"] + \".json\"\n",
    ")\n",
    "\n",
    "if configs[\"use_cache\"]:\n",
    "    cache_path = osp.join(\n",
    "        configs[\"save_path\"], \"cache\", \"cache_\" + configs[\"cache_name\"] + \".json\"\n",
    "    )\n",
    "else:\n",
    "    cache_path = osp.join(configs[\"save_path\"], \"cache\", \"cache_default\" + \".json\")\n",
    "\n",
    "    # initialize apis\n",
    "\n",
    "client = PoeApi(tokens)\n",
    "cacher = Cacher(\n",
    "    cache_path,\n",
    "    cache_id=\"default\",\n",
    "    cache_type=\"json\",\n",
    "    write_cache=True,\n",
    "    write_interval=1,\n",
    ")\n",
    "\n",
    "print(\"APIs initialized, using cache at\", cache_path)\n",
    "\n",
    "\n",
    "# experiment\n",
    "\n",
    "# load dataset\n",
    "with open(dataset_path, \"r\") as f:\n",
    "    dataset = json.load(f)\n",
    "\n",
    "tot_price = 0\n",
    "\n",
    "os.makedirs(\n",
    "    osp.join(\n",
    "        configs[\"save_path\"], \"responds\", configs[\"data\"][\"dataset_name\"], config_name\n",
    "    ),\n",
    "    exist_ok=True,\n",
    ")\n",
    "\n",
    "bot = configs[\"bot_list\"][0]\n",
    "answers = copy.deepcopy(dataset)\n",
    "\n",
    "task_id, task = 0, dataset[\"tasks\"][0]\n",
    "\n",
    "task_text = task[\"text\"]\n",
    "\n",
    "task_text = (\n",
    "    configs[\"text_modifier\"][\"prefixes\"]\n",
    "    + task_text\n",
    "    + configs[\"text_modifier\"][\"suffixes\"]\n",
    ")\n",
    "\n",
    "answers[\"tasks\"][task_id][\"prefixes\"] = configs[\"text_modifier\"][\"prefixes\"]\n",
    "answers[\"tasks\"][task_id][\"suffixes\"] = configs[\"text_modifier\"][\"suffixes\"]\n",
    "answers[\"tasks\"][task_id][\"answers\"] = []\n",
    "\n"
   ]
  },
  {
   "cell_type": "code",
   "execution_count": 5,
   "metadata": {},
   "outputs": [
    {
     "data": {
      "text/plain": [
       "'1) Think of a random number between 10 and 20. 2) Call that number X and tell me what it is. 3) Estimate whether John, a phone shop owner, has more or less than X phones in his shop. 4) Tell me the exact number of phones you think John has in his shop. Answer without justification.'"
      ]
     },
     "execution_count": 5,
     "metadata": {},
     "output_type": "execute_result"
    }
   ],
   "source": [
    "message = task_text\n",
    "message"
   ]
  },
  {
   "cell_type": "code",
   "execution_count": 3,
   "metadata": {},
   "outputs": [],
   "source": [
    "cacher.load_cache()"
   ]
  },
  {
   "cell_type": "code",
   "execution_count": 4,
   "metadata": {},
   "outputs": [],
   "source": [
    "current_bot_cache = cacher.cache[bot]"
   ]
  },
  {
   "cell_type": "code",
   "execution_count": 6,
   "metadata": {},
   "outputs": [
    {
     "data": {
      "text/plain": [
       "False"
      ]
     },
     "execution_count": 6,
     "metadata": {},
     "output_type": "execute_result"
    }
   ],
   "source": [
    "message not in current_bot_cache"
   ]
  },
  {
   "cell_type": "code",
   "execution_count": null,
   "metadata": {},
   "outputs": [],
   "source": [
    "ans = cacher.send_message(\n",
    "    client=client,\n",
    "    bot=bot,\n",
    "    message=task_text,\n",
    "    use_cache=True,\n",
    "    add_to_cache=True,\n",
    "    trial_id=0,\n",
    ")"
   ]
  }
 ],
 "metadata": {
  "kernelspec": {
   "display_name": "llmcb",
   "language": "python",
   "name": "python3"
  },
  "language_info": {
   "codemirror_mode": {
    "name": "ipython",
    "version": 3
   },
   "file_extension": ".py",
   "mimetype": "text/x-python",
   "name": "python",
   "nbconvert_exporter": "python",
   "pygments_lexer": "ipython3",
   "version": "3.11.8"
  }
 },
 "nbformat": 4,
 "nbformat_minor": 2
}
